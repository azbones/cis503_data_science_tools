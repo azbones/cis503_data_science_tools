{
 "cells": [
  {
   "cell_type": "markdown",
   "metadata": {},
   "source": [
    "* https://www.anaconda.com/download/\n",
    "* http://jupyter.org/install.html\n",
    "* https://www.rstudio.com/products/rstudio/download/#download\n",
    "* https://irkernel.github.io/docs/IRkernel/0.7/\n"
   ]
  }
 ],
 "metadata": {
  "kernelspec": {
   "display_name": "R",
   "language": "R",
   "name": "ir"
  },
  "language_info": {
   "codemirror_mode": "r",
   "file_extension": ".r",
   "mimetype": "text/x-r-source",
   "name": "R",
   "pygments_lexer": "r",
   "version": "3.3.3"
  }
 },
 "nbformat": 4,
 "nbformat_minor": 0
}
