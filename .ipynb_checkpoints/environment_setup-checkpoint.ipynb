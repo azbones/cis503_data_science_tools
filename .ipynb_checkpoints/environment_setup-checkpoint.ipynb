{
 "cells": [
  {
   "cell_type": "markdown",
   "metadata": {},
   "source": [
    "* https://www.anaconda.com/download/\n",
    "* http://jupyter.org/install.html\n",
    "* https://www.rstudio.com/products/rstudio/download/#download\n",
    "* https://irkernel.github.io/docs/IRkernel/0.7/\n"
   ]
  },
  {
   "cell_type": "markdown",
   "metadata": {
    "collapsed": true
   },
   "source": [
    "# What is an Environment?\n",
    "\n",
    "Data scientists use a variety of tools in their day to day work. A desktop data science environment includes all the software tools needed to explore data and conduct analyses. Examples of some of these tools include:\n",
    "\n",
    "* **A statistical programming language**- examples include [Python](https://www.python.org/), [R](https://www.r-project.org/), or commercial packages like [SPSS](https://www.ibm.com/products/spss-statistics) or [SAS](https://www.sas.com/en_us/software/stat.html).\n",
    "* **Data science specific libraries**- Most statistical programming languages have add on libraries useful for data science. For Python there is [SciPy](https://www.scipy.org/) and R has the [tidyverse](https://www.tidyverse.org/). \n",
    "* **Visualization tools or libraries**- Python and R have their specific libraries [Matplotlib](https://matplotlib.org/) and [Ggplot2](http://ggplot2.org/) which are included in SciPy and Tidyverse. There are many commercial tools for visualization like [Tableau](https://www.tableau.com/). There are also hybrid open-source/commercial products like [Plotly](https://plot.ly/).\n",
    "* **Software Integrated Development Environments (IDEs)**- IDEs help organize and streamline your software. I like [PyCharm](https://www.jetbrains.com/pycharm/) for Python.\n",
    "* **Version control sofware**- As you work on more sophisticated projects and collaborate with others, version control becomes important. [Git](https://git-scm.com/) is the underlying version control software most used, but [Github](https://github.com/) is a centralized repository often used for some of the most important data science tools like https://github.com/apache/spark and https://github.com/tensorflow/tensorflow\n",
    "* **Database clients**- Connecting to traditional databases is a common task despite all the newer big data technologies. There are free clients like [SQL Workbench](http://www.sql-workbench.net/) and commercial products like [Datagrip](https://www.jetbrains.com/datagrip/). While most of the tools I use are open-source, in this case I really like Datagrip and don't mind paying for it.\n"
   ]
  }
 ],
 "metadata": {
  "kernelspec": {
   "display_name": "R",
   "language": "R",
   "name": "ir"
  },
  "language_info": {
   "codemirror_mode": "r",
   "file_extension": ".r",
   "mimetype": "text/x-r-source",
   "name": "R",
   "pygments_lexer": "r",
   "version": "3.3.3"
  }
 },
 "nbformat": 4,
 "nbformat_minor": 0
}
