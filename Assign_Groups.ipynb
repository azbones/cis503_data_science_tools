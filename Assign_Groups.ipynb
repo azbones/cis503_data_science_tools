{
 "cells": [
  {
   "cell_type": "code",
   "execution_count": 44,
   "id": "cfe40e38",
   "metadata": {},
   "outputs": [],
   "source": [
    "import random\n",
    "import numpy as np\n",
    "    \n",
    "\n",
    "def partition(lst, n):\n",
    "    \"\"\"\n",
    "    Take a list of students and output random groups based on number of groups desired.\n",
    "    \"\"\"\n",
    "    random.shuffle(lst)\n",
    "    division = len(lst) / float(n)\n",
    "    groups = [lst[int(round(division * i)): int(round(division * (i + 1)))] for i in range(n)]\n",
    "    for i,x in enumerate(groups):\n",
    "        print(\"Group {} contains:\".format(i+1))\n",
    "        for j in x:\n",
    "            print(j)\n",
    "        print(\"\\n\")\n",
    "    print(\"Average number of students per group is {}\".format(np.mean([len(x) for x in groups])))\n",
    "    return groups"
   ]
  },
  {
   "cell_type": "code",
   "execution_count": 2,
   "id": "1c89be0f",
   "metadata": {},
   "outputs": [],
   "source": [
    "students = [1,2,3,4,5,6,7,8,9,10]"
   ]
  },
  {
   "cell_type": "code",
   "execution_count": 10,
   "id": "332f9884",
   "metadata": {},
   "outputs": [],
   "source": [
    "pop = [[1,2,3],[1,2,3,4]]"
   ]
  },
  {
   "cell_type": "code",
   "execution_count": 45,
   "id": "bee7dda0",
   "metadata": {},
   "outputs": [
    {
     "data": {
      "text/plain": [
       "50.0"
      ]
     },
     "execution_count": 45,
     "metadata": {},
     "output_type": "execute_result"
    }
   ],
   "source": [
    "np.mean([0,100])"
   ]
  }
 ],
 "metadata": {
  "kernelspec": {
   "display_name": "Python 3",
   "language": "python",
   "name": "python3"
  },
  "language_info": {
   "codemirror_mode": {
    "name": "ipython",
    "version": 3
   },
   "file_extension": ".py",
   "mimetype": "text/x-python",
   "name": "python",
   "nbconvert_exporter": "python",
   "pygments_lexer": "ipython3",
   "version": "3.8.8"
  }
 },
 "nbformat": 4,
 "nbformat_minor": 5
}
