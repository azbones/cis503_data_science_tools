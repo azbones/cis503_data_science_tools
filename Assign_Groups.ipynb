{
 "cells": [
  {
   "cell_type": "code",
   "execution_count": 1,
   "id": "cfe40e38",
   "metadata": {},
   "outputs": [],
   "source": [
    "import random\n",
    "import numpy as np\n",
    "    \n",
    "\n",
    "def partition(lst, n):\n",
    "    \"\"\"\n",
    "    Take a list of students and output random groups based on number of groups desired.\n",
    "    \"\"\"\n",
    "    random.shuffle(lst)\n",
    "    division = len(lst) / float(n)\n",
    "    groups = [lst[int(round(division * i)): int(round(division * (i + 1)))] for i in range(n)]\n",
    "    for i,x in enumerate(groups):\n",
    "        print(\"Group {} contains:\".format(i+1))\n",
    "        for j in x:\n",
    "            print(j)\n",
    "        print(\"\\n\")\n",
    "    print(\"Average number of students per group is {}\".format(np.mean([len(x) for x in groups])))\n",
    "    return groups"
   ]
  },
  {
   "cell_type": "code",
   "execution_count": 2,
   "id": "1c89be0f",
   "metadata": {},
   "outputs": [],
   "source": [
    "students = [1,2,3,4,5,6,7,8,9,10]"
   ]
  },
  {
   "cell_type": "code",
   "execution_count": 5,
   "id": "332f9884",
   "metadata": {},
   "outputs": [
    {
     "name": "stdout",
     "output_type": "stream",
     "text": [
      "Group 1 contains:\n",
      "7\n",
      "2\n",
      "1\n",
      "\n",
      "\n",
      "Group 2 contains:\n",
      "8\n",
      "3\n",
      "5\n",
      "4\n",
      "\n",
      "\n",
      "Group 3 contains:\n",
      "10\n",
      "9\n",
      "6\n",
      "\n",
      "\n",
      "Average number of students per group is 3.3333333333333335\n"
     ]
    },
    {
     "data": {
      "text/plain": [
       "[[7, 2, 1], [8, 3, 5, 4], [10, 9, 6]]"
      ]
     },
     "execution_count": 5,
     "metadata": {},
     "output_type": "execute_result"
    }
   ],
   "source": [
    "partition(students,3)"
   ]
  }
 ],
 "metadata": {
  "kernelspec": {
   "display_name": "Python 3",
   "language": "python",
   "name": "python3"
  },
  "language_info": {
   "codemirror_mode": {
    "name": "ipython",
    "version": 3
   },
   "file_extension": ".py",
   "mimetype": "text/x-python",
   "name": "python",
   "nbconvert_exporter": "python",
   "pygments_lexer": "ipython3",
   "version": "3.8.8"
  }
 },
 "nbformat": 4,
 "nbformat_minor": 5
}
