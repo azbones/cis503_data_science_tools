{
 "cells": [
  {
   "cell_type": "markdown",
   "metadata": {},
   "source": [
    "# Getting help\n",
    "\n",
    "Part of what makes tools like R more accessible than ever before is how easy it is to get help. For R and its primary data science library, tidyverse, the excellent (and free) book \"R for Data Science\" can be found at http://r4ds.had.co.nz/\n",
    "\n",
    "When doing basic analyses, simple web searches will often help you either find documentation or explanations for accomplishing most tasks. [Stack Overflow](https://stackoverflow.com/) is a great source and has specific areas for R and its libraries like dplyr which is the primary library for manipulating data: https://stackoverflow.com/questions/tagged/r+dplyr. The main pages for each library also offer great documentation like [dplyr](http://dplyr.tidyverse.org/). \n",
    "\n",
    "Rstudio also provides several \"cheatsheets\" which are useful references here: https://www.rstudio.com/resources/cheatsheets/\n",
    "\n",
    "Finally, when you are using RStudio, you can get built in help by using the help function by adding a question mark before the command you want help with like `?function()`. This function may not work with Jupyter notebooks depending on your operating system."
   ]
  },
  {
   "cell_type": "markdown",
   "metadata": {},
   "source": [
    "# Adding our data science libraries\n",
    "\n",
    "To get started we are going to use a dataset from the [Capital Bikeshare](https://www.capitalbikeshare.com/) in 2011 and 2012.\n",
    "\n",
    "The first thing we need to do is to install and then load the [Tidyverse data science library](http://tidyverse.org).  R has thousands of additional libraries you can add to accomplish many different tasks without having to code them yourself. A partial listing is [here](https://cran.r-project.org/web/packages/available_packages_by_name.html)."
   ]
  },
  {
   "cell_type": "code",
   "execution_count": 34,
   "metadata": {
    "collapsed": false
   },
   "outputs": [
    {
     "name": "stdout",
     "output_type": "stream",
     "text": [
      "package 'praise' successfully unpacked and MD5 sums checked\n",
      "package 'bindr' successfully unpacked and MD5 sums checked\n",
      "package 'rematch' successfully unpacked and MD5 sums checked\n",
      "package 'debugme' successfully unpacked and MD5 sums checked\n",
      "package 'testthat' successfully unpacked and MD5 sums checked\n",
      "package 'utf8' successfully unpacked and MD5 sums checked\n",
      "package 'bindrcpp' successfully unpacked and MD5 sums checked\n",
      "package 'glue' successfully unpacked and MD5 sums checked\n",
      "package 'pkgconfig' successfully unpacked and MD5 sums checked\n",
      "package 'BH' successfully unpacked and MD5 sums checked\n"
     ]
    },
    {
     "name": "stderr",
     "output_type": "stream",
     "text": [
      "Warning message:\n",
      "\"unable to move temporary installation 'C:\\Users\\collin\\Documents\\R\\win-library\\3.3\\file1c481e301599\\BH' to 'C:\\Users\\collin\\Documents\\R\\win-library\\3.3\\BH'\""
     ]
    },
    {
     "name": "stdout",
     "output_type": "stream",
     "text": [
      "package 'plogr' successfully unpacked and MD5 sums checked\n",
      "package 'DBI' successfully unpacked and MD5 sums checked\n",
      "package 'R6' successfully unpacked and MD5 sums checked\n",
      "package 'tidyselect' successfully unpacked and MD5 sums checked\n",
      "package 'cellranger' successfully unpacked and MD5 sums checked\n",
      "package 'callr' successfully unpacked and MD5 sums checked\n",
      "package 'pillar' successfully unpacked and MD5 sums checked\n",
      "package 'cli' successfully unpacked and MD5 sums checked\n",
      "package 'haven' successfully unpacked and MD5 sums checked\n"
     ]
    },
    {
     "name": "stderr",
     "output_type": "stream",
     "text": [
      "Warning message:\n",
      "\"cannot remove prior installation of package 'haven'\""
     ]
    },
    {
     "name": "stdout",
     "output_type": "stream",
     "text": [
      "package 'httr' successfully unpacked and MD5 sums checked\n",
      "package 'lubridate' successfully unpacked and MD5 sums checked\n"
     ]
    },
    {
     "name": "stderr",
     "output_type": "stream",
     "text": [
      "Warning message:\n",
      "\"cannot remove prior installation of package 'lubridate'\""
     ]
    },
    {
     "name": "stdout",
     "output_type": "stream",
     "text": [
      "package 'modelr' successfully unpacked and MD5 sums checked\n",
      "package 'readxl' successfully unpacked and MD5 sums checked\n"
     ]
    },
    {
     "name": "stderr",
     "output_type": "stream",
     "text": [
      "Warning message:\n",
      "\"cannot remove prior installation of package 'readxl'\""
     ]
    },
    {
     "name": "stdout",
     "output_type": "stream",
     "text": [
      "package 'reprex' successfully unpacked and MD5 sums checked\n",
      "package 'rlang' successfully unpacked and MD5 sums checked\n",
      "\n",
      "The downloaded binary packages are in\n",
      "\tC:\\Users\\collin\\AppData\\Local\\Temp\\RtmpAhbdbM\\downloaded_packages\n"
     ]
    },
    {
     "name": "stderr",
     "output_type": "stream",
     "text": [
      "installing the source package 'dbplyr'\n",
      "\n",
      "Warning message:\n",
      "\"running command '\"C:/PROGRA~1/R/R-33~1.3/bin/x64/R\" CMD INSTALL -l \"C:\\Users\\collin\\Documents\\R\\win-library\\3.3\" C:\\Users\\collin\\AppData\\Local\\Temp\\RtmpAhbdbM/downloaded_packages/dbplyr_1.2.0.tar.gz' had status 1\"Warning message in install.packages(\"tidyverse\", repos = \"http://cran.us.r-project.org\"):\n",
      "\"installation of package 'dbplyr' had non-zero exit status\""
     ]
    }
   ],
   "source": [
    "# install the tidyverse library\n",
    "install.packages(\"tidyverse\", repos = \"http://cran.us.r-project.org\")"
   ]
  },
  {
   "cell_type": "code",
   "execution_count": 5,
   "metadata": {
    "collapsed": false
   },
   "outputs": [
    {
     "name": "stderr",
     "output_type": "stream",
     "text": [
      "Loading tidyverse: ggplot2\n",
      "Loading tidyverse: tibble\n",
      "Loading tidyverse: tidyr\n",
      "Loading tidyverse: readr\n",
      "Loading tidyverse: purrr\n",
      "Loading tidyverse: dplyr\n",
      "Conflicts with tidy packages ---------------------------------------------------\n",
      "filter(): dplyr, stats\n",
      "lag():    dplyr, stats\n"
     ]
    }
   ],
   "source": [
    "# load tidyverse into your R session\n",
    "library(tidyverse)"
   ]
  },
  {
   "cell_type": "markdown",
   "metadata": {},
   "source": [
    "# Load data from a CSV file\n",
    "\n",
    "Loading data is easy. We will use the `read_csv` function to read the data from our file into a variable called `df` which is short for dataframe.  In R, you assign things to variables with the `<-` operator. \n",
    "\n",
    "After you run this cell R will provide a printout of how it decided to encode the column headers and the datatype of each column. Datatypes are important given functions may require specific datatypes. For example, if you encode a column of your csv file with data like \"1-11-2018\" as a string or character type, R will not be able to perform any date functions on it.\n",
    "\n",
    "As with most things in R, you can override default functionality specify the datatypes as follows:\n",
    "\n",
    "```R\n",
    "df <- read_csv(\"data/bike_day.csv\", col_types = \n",
    "  cols(instant = col_integer(),\n",
    "  dteday = col_date(format = \"\"),\n",
    "  season = col_integer(),\n",
    "  yr = col_integer(),\n",
    "  mnth = col_integer(),\n",
    "  holiday = col_integer(),\n",
    "  weekday = col_integer(),\n",
    "  workingday = col_integer(),\n",
    "  weathersit = col_integer(),\n",
    "  temp = col_double(),\n",
    "  atemp = col_double(),\n",
    "  hum = col_double(),\n",
    "  windspeed = col_double(),\n",
    "  casual = col_integer(),\n",
    "  registered = col_integer(),\n",
    "  cnt = col_integer()\n",
    "  )\n",
    ")\n",
    "```\n",
    "\n",
    "As we will see later, RStudio makes this much easier."
   ]
  },
  {
   "cell_type": "code",
   "execution_count": 7,
   "metadata": {
    "collapsed": false
   },
   "outputs": [
    {
     "name": "stderr",
     "output_type": "stream",
     "text": [
      "Parsed with column specification:\n",
      "cols(\n",
      "  instant = col_integer(),\n",
      "  dteday = col_date(format = \"\"),\n",
      "  season = col_integer(),\n",
      "  yr = col_integer(),\n",
      "  mnth = col_integer(),\n",
      "  holiday = col_integer(),\n",
      "  weekday = col_integer(),\n",
      "  workingday = col_integer(),\n",
      "  weathersit = col_integer(),\n",
      "  temp = col_double(),\n",
      "  atemp = col_double(),\n",
      "  hum = col_double(),\n",
      "  windspeed = col_double(),\n",
      "  casual = col_integer(),\n",
      "  registered = col_integer(),\n",
      "  cnt = col_integer()\n",
      ")\n"
     ]
    }
   ],
   "source": [
    "df <- read_csv(\"data/bike_day.csv\")"
   ]
  },
  {
   "cell_type": "markdown",
   "metadata": {},
   "source": [
    "# Look at the data you loaded\n",
    "\n",
    "To see your data, just enter your dataframe name into a code cell and execute it."
   ]
  },
  {
   "cell_type": "code",
   "execution_count": 22,
   "metadata": {
    "collapsed": false
   },
   "outputs": [
    {
     "data": {
      "text/html": [
       "<table>\n",
       "<thead><tr><th scope=col>instant</th><th scope=col>dteday</th><th scope=col>season</th><th scope=col>yr</th><th scope=col>mnth</th><th scope=col>holiday</th><th scope=col>weekday</th><th scope=col>workingday</th><th scope=col>weathersit</th><th scope=col>temp</th><th scope=col>atemp</th><th scope=col>hum</th><th scope=col>windspeed</th><th scope=col>casual</th><th scope=col>registered</th><th scope=col>cnt</th></tr></thead>\n",
       "<tbody>\n",
       "\t<tr><td> 1        </td><td>2011-01-01</td><td>1         </td><td>0         </td><td>1         </td><td>0         </td><td>6         </td><td>0         </td><td>2         </td><td>0.3441670 </td><td>0.3636250 </td><td>0.805833  </td><td>0.1604460 </td><td>331       </td><td> 654      </td><td> 985      </td></tr>\n",
       "\t<tr><td> 2        </td><td>2011-01-02</td><td>1         </td><td>0         </td><td>1         </td><td>0         </td><td>0         </td><td>0         </td><td>2         </td><td>0.3634780 </td><td>0.3537390 </td><td>0.696087  </td><td>0.2485390 </td><td>131       </td><td> 670      </td><td> 801      </td></tr>\n",
       "\t<tr><td> 3        </td><td>2011-01-03</td><td>1         </td><td>0         </td><td>1         </td><td>0         </td><td>1         </td><td>1         </td><td>1         </td><td>0.1963640 </td><td>0.1894050 </td><td>0.437273  </td><td>0.2483090 </td><td>120       </td><td>1229      </td><td>1349      </td></tr>\n",
       "\t<tr><td> 4        </td><td>2011-01-04</td><td>1         </td><td>0         </td><td>1         </td><td>0         </td><td>2         </td><td>1         </td><td>1         </td><td>0.2000000 </td><td>0.2121220 </td><td>0.590435  </td><td>0.1602960 </td><td>108       </td><td>1454      </td><td>1562      </td></tr>\n",
       "\t<tr><td> 5        </td><td>2011-01-05</td><td>1         </td><td>0         </td><td>1         </td><td>0         </td><td>3         </td><td>1         </td><td>1         </td><td>0.2269570 </td><td>0.2292700 </td><td>0.436957  </td><td>0.1869000 </td><td> 82       </td><td>1518      </td><td>1600      </td></tr>\n",
       "\t<tr><td> 6        </td><td>2011-01-06</td><td>1         </td><td>0         </td><td>1         </td><td>0         </td><td>4         </td><td>1         </td><td>1         </td><td>0.2043480 </td><td>0.2332090 </td><td>0.518261  </td><td>0.0895652 </td><td> 88       </td><td>1518      </td><td>1606      </td></tr>\n",
       "\t<tr><td> 7        </td><td>2011-01-07</td><td>1         </td><td>0         </td><td>1         </td><td>0         </td><td>5         </td><td>1         </td><td>2         </td><td>0.1965220 </td><td>0.2088390 </td><td>0.498696  </td><td>0.1687260 </td><td>148       </td><td>1362      </td><td>1510      </td></tr>\n",
       "\t<tr><td> 8        </td><td>2011-01-08</td><td>1         </td><td>0         </td><td>1         </td><td>0         </td><td>6         </td><td>0         </td><td>2         </td><td>0.1650000 </td><td>0.1622540 </td><td>0.535833  </td><td>0.2668040 </td><td> 68       </td><td> 891      </td><td> 959      </td></tr>\n",
       "\t<tr><td> 9        </td><td>2011-01-09</td><td>1         </td><td>0         </td><td>1         </td><td>0         </td><td>0         </td><td>0         </td><td>1         </td><td>0.1383330 </td><td>0.1161750 </td><td>0.434167  </td><td>0.3619500 </td><td> 54       </td><td> 768      </td><td> 822      </td></tr>\n",
       "\t<tr><td>10        </td><td>2011-01-10</td><td>1         </td><td>0         </td><td>1         </td><td>0         </td><td>1         </td><td>1         </td><td>1         </td><td>0.1508330 </td><td>0.1508880 </td><td>0.482917  </td><td>0.2232670 </td><td> 41       </td><td>1280      </td><td>1321      </td></tr>\n",
       "\t<tr><td>11        </td><td>2011-01-11</td><td>1         </td><td>0         </td><td>1         </td><td>0         </td><td>2         </td><td>1         </td><td>2         </td><td>0.1690910 </td><td>0.1914640 </td><td>0.686364  </td><td>0.1221320 </td><td> 43       </td><td>1220      </td><td>1263      </td></tr>\n",
       "\t<tr><td>12        </td><td>2011-01-12</td><td>1         </td><td>0         </td><td>1         </td><td>0         </td><td>3         </td><td>1         </td><td>1         </td><td>0.1727270 </td><td>0.1604730 </td><td>0.599545  </td><td>0.3046270 </td><td> 25       </td><td>1137      </td><td>1162      </td></tr>\n",
       "\t<tr><td>13        </td><td>2011-01-13</td><td>1         </td><td>0         </td><td>1         </td><td>0         </td><td>4         </td><td>1         </td><td>1         </td><td>0.1650000 </td><td>0.1508830 </td><td>0.470417  </td><td>0.3010000 </td><td> 38       </td><td>1368      </td><td>1406      </td></tr>\n",
       "\t<tr><td>14        </td><td>2011-01-14</td><td>1         </td><td>0         </td><td>1         </td><td>0         </td><td>5         </td><td>1         </td><td>1         </td><td>0.1608700 </td><td>0.1884130 </td><td>0.537826  </td><td>0.1265480 </td><td> 54       </td><td>1367      </td><td>1421      </td></tr>\n",
       "\t<tr><td>15        </td><td>2011-01-15</td><td>1         </td><td>0         </td><td>1         </td><td>0         </td><td>6         </td><td>0         </td><td>2         </td><td>0.2333330 </td><td>0.2481120 </td><td>0.498750  </td><td>0.1579630 </td><td>222       </td><td>1026      </td><td>1248      </td></tr>\n",
       "\t<tr><td>16        </td><td>2011-01-16</td><td>1         </td><td>0         </td><td>1         </td><td>0         </td><td>0         </td><td>0         </td><td>1         </td><td>0.2316670 </td><td>0.2342170 </td><td>0.483750  </td><td>0.1884330 </td><td>251       </td><td> 953      </td><td>1204      </td></tr>\n",
       "\t<tr><td>17        </td><td>2011-01-17</td><td>1         </td><td>0         </td><td>1         </td><td>1         </td><td>1         </td><td>0         </td><td>2         </td><td>0.1758330 </td><td>0.1767710 </td><td>0.537500  </td><td>0.1940170 </td><td>117       </td><td> 883      </td><td>1000      </td></tr>\n",
       "\t<tr><td>18        </td><td>2011-01-18</td><td>1         </td><td>0         </td><td>1         </td><td>0         </td><td>2         </td><td>1         </td><td>2         </td><td>0.2166670 </td><td>0.2323330 </td><td>0.861667  </td><td>0.1467750 </td><td>  9       </td><td> 674      </td><td> 683      </td></tr>\n",
       "\t<tr><td>19        </td><td>2011-01-19</td><td>1         </td><td>0         </td><td>1         </td><td>0         </td><td>3         </td><td>1         </td><td>2         </td><td>0.2921740 </td><td>0.2984220 </td><td>0.741739  </td><td>0.2083170 </td><td> 78       </td><td>1572      </td><td>1650      </td></tr>\n",
       "\t<tr><td>20        </td><td>2011-01-20</td><td>1         </td><td>0         </td><td>1         </td><td>0         </td><td>4         </td><td>1         </td><td>2         </td><td>0.2616670 </td><td>0.2550500 </td><td>0.538333  </td><td>0.1959040 </td><td> 83       </td><td>1844      </td><td>1927      </td></tr>\n",
       "\t<tr><td>21        </td><td>2011-01-21</td><td>1         </td><td>0         </td><td>1         </td><td>0         </td><td>5         </td><td>1         </td><td>1         </td><td>0.1775000 </td><td>0.1578330 </td><td>0.457083  </td><td>0.3532420 </td><td> 75       </td><td>1468      </td><td>1543      </td></tr>\n",
       "\t<tr><td>22        </td><td>2011-01-22</td><td>1         </td><td>0         </td><td>1         </td><td>0         </td><td>6         </td><td>0         </td><td>1         </td><td>0.0591304 </td><td>0.0790696 </td><td>0.400000  </td><td>0.1719700 </td><td> 93       </td><td> 888      </td><td> 981      </td></tr>\n",
       "\t<tr><td>23        </td><td>2011-01-23</td><td>1         </td><td>0         </td><td>1         </td><td>0         </td><td>0         </td><td>0         </td><td>1         </td><td>0.0965217 </td><td>0.0988391 </td><td>0.436522  </td><td>0.2466000 </td><td>150       </td><td> 836      </td><td> 986      </td></tr>\n",
       "\t<tr><td>24        </td><td>2011-01-24</td><td>1         </td><td>0         </td><td>1         </td><td>0         </td><td>1         </td><td>1         </td><td>1         </td><td>0.0973913 </td><td>0.1179300 </td><td>0.491739  </td><td>0.1583300 </td><td> 86       </td><td>1330      </td><td>1416      </td></tr>\n",
       "\t<tr><td>25        </td><td>2011-01-25</td><td>1         </td><td>0         </td><td>1         </td><td>0         </td><td>2         </td><td>1         </td><td>2         </td><td>0.2234780 </td><td>0.2345260 </td><td>0.616957  </td><td>0.1297960 </td><td>186       </td><td>1799      </td><td>1985      </td></tr>\n",
       "\t<tr><td>26        </td><td>2011-01-26</td><td>1         </td><td>0         </td><td>1         </td><td>0         </td><td>3         </td><td>1         </td><td>3         </td><td>0.2175000 </td><td>0.2036000 </td><td>0.862500  </td><td>0.2938500 </td><td> 34       </td><td> 472      </td><td> 506      </td></tr>\n",
       "\t<tr><td>27        </td><td>2011-01-27</td><td>1         </td><td>0         </td><td>1         </td><td>0         </td><td>4         </td><td>1         </td><td>1         </td><td>0.1950000 </td><td>0.2197000 </td><td>0.687500  </td><td>0.1138370 </td><td> 15       </td><td> 416      </td><td> 431      </td></tr>\n",
       "\t<tr><td>28        </td><td>2011-01-28</td><td>1         </td><td>0         </td><td>1         </td><td>0         </td><td>5         </td><td>1         </td><td>2         </td><td>0.2034780 </td><td>0.2233170 </td><td>0.793043  </td><td>0.1233000 </td><td> 38       </td><td>1129      </td><td>1167      </td></tr>\n",
       "\t<tr><td>29        </td><td>2011-01-29</td><td>1         </td><td>0         </td><td>1         </td><td>0         </td><td>6         </td><td>0         </td><td>1         </td><td>0.1965220 </td><td>0.2121260 </td><td>0.651739  </td><td>0.1453650 </td><td>123       </td><td> 975      </td><td>1098      </td></tr>\n",
       "\t<tr><td>30        </td><td>2011-01-30</td><td>1         </td><td>0         </td><td>1         </td><td>0         </td><td>0         </td><td>0         </td><td>1         </td><td>0.2165220 </td><td>0.2503220 </td><td>0.722174  </td><td>0.0739826 </td><td>140       </td><td> 956      </td><td>1096      </td></tr>\n",
       "\t<tr><td>...</td><td>...</td><td>...</td><td>...</td><td>...</td><td>...</td><td>...</td><td>...</td><td>...</td><td>...</td><td>...</td><td>...</td><td>...</td><td>...</td><td>...</td><td>...</td></tr>\n",
       "\t<tr><td>702       </td><td>2012-12-02</td><td>4         </td><td>1         </td><td>12        </td><td>0         </td><td>0         </td><td>0         </td><td>2         </td><td>0.347500  </td><td>0.359208  </td><td>0.823333  </td><td>0.1243790 </td><td> 892      </td><td>3757      </td><td>4649      </td></tr>\n",
       "\t<tr><td>703       </td><td>2012-12-03</td><td>4         </td><td>1         </td><td>12        </td><td>0         </td><td>1         </td><td>1         </td><td>1         </td><td>0.452500  </td><td>0.455796  </td><td>0.767500  </td><td>0.0827208 </td><td> 555      </td><td>5679      </td><td>6234      </td></tr>\n",
       "\t<tr><td>704       </td><td>2012-12-04</td><td>4         </td><td>1         </td><td>12        </td><td>0         </td><td>2         </td><td>1         </td><td>1         </td><td>0.475833  </td><td>0.469054  </td><td>0.733750  </td><td>0.1741290 </td><td> 551      </td><td>6055      </td><td>6606      </td></tr>\n",
       "\t<tr><td>705       </td><td>2012-12-05</td><td>4         </td><td>1         </td><td>12        </td><td>0         </td><td>3         </td><td>1         </td><td>1         </td><td>0.438333  </td><td>0.428012  </td><td>0.485000  </td><td>0.3240210 </td><td> 331      </td><td>5398      </td><td>5729      </td></tr>\n",
       "\t<tr><td>706       </td><td>2012-12-06</td><td>4         </td><td>1         </td><td>12        </td><td>0         </td><td>4         </td><td>1         </td><td>1         </td><td>0.255833  </td><td>0.258204  </td><td>0.508750  </td><td>0.1747540 </td><td> 340      </td><td>5035      </td><td>5375      </td></tr>\n",
       "\t<tr><td>707       </td><td>2012-12-07</td><td>4         </td><td>1         </td><td>12        </td><td>0         </td><td>5         </td><td>1         </td><td>2         </td><td>0.320833  </td><td>0.321958  </td><td>0.764167  </td><td>0.1306000 </td><td> 349      </td><td>4659      </td><td>5008      </td></tr>\n",
       "\t<tr><td>708       </td><td>2012-12-08</td><td>4         </td><td>1         </td><td>12        </td><td>0         </td><td>6         </td><td>0         </td><td>2         </td><td>0.381667  </td><td>0.389508  </td><td>0.911250  </td><td>0.1013790 </td><td>1153      </td><td>4429      </td><td>5582      </td></tr>\n",
       "\t<tr><td>709       </td><td>2012-12-09</td><td>4         </td><td>1         </td><td>12        </td><td>0         </td><td>0         </td><td>0         </td><td>2         </td><td>0.384167  </td><td>0.390146  </td><td>0.905417  </td><td>0.1579750 </td><td> 441      </td><td>2787      </td><td>3228      </td></tr>\n",
       "\t<tr><td>710       </td><td>2012-12-10</td><td>4         </td><td>1         </td><td>12        </td><td>0         </td><td>1         </td><td>1         </td><td>2         </td><td>0.435833  </td><td>0.435575  </td><td>0.925000  </td><td>0.1903080 </td><td> 329      </td><td>4841      </td><td>5170      </td></tr>\n",
       "\t<tr><td>711       </td><td>2012-12-11</td><td>4         </td><td>1         </td><td>12        </td><td>0         </td><td>2         </td><td>1         </td><td>2         </td><td>0.353333  </td><td>0.338363  </td><td>0.596667  </td><td>0.2960370 </td><td> 282      </td><td>5219      </td><td>5501      </td></tr>\n",
       "\t<tr><td>712       </td><td>2012-12-12</td><td>4         </td><td>1         </td><td>12        </td><td>0         </td><td>3         </td><td>1         </td><td>2         </td><td>0.297500  </td><td>0.297338  </td><td>0.538333  </td><td>0.1629370 </td><td> 310      </td><td>5009      </td><td>5319      </td></tr>\n",
       "\t<tr><td>713       </td><td>2012-12-13</td><td>4         </td><td>1         </td><td>12        </td><td>0         </td><td>4         </td><td>1         </td><td>1         </td><td>0.295833  </td><td>0.294188  </td><td>0.485833  </td><td>0.1741290 </td><td> 425      </td><td>5107      </td><td>5532      </td></tr>\n",
       "\t<tr><td>714       </td><td>2012-12-14</td><td>4         </td><td>1         </td><td>12        </td><td>0         </td><td>5         </td><td>1         </td><td>1         </td><td>0.281667  </td><td>0.294192  </td><td>0.642917  </td><td>0.1312290 </td><td> 429      </td><td>5182      </td><td>5611      </td></tr>\n",
       "\t<tr><td>715       </td><td>2012-12-15</td><td>4         </td><td>1         </td><td>12        </td><td>0         </td><td>6         </td><td>0         </td><td>1         </td><td>0.324167  </td><td>0.338383  </td><td>0.650417  </td><td>0.1063500 </td><td> 767      </td><td>4280      </td><td>5047      </td></tr>\n",
       "\t<tr><td>716       </td><td>2012-12-16</td><td>4         </td><td>1         </td><td>12        </td><td>0         </td><td>0         </td><td>0         </td><td>2         </td><td>0.362500  </td><td>0.369938  </td><td>0.838750  </td><td>0.1007420 </td><td> 538      </td><td>3248      </td><td>3786      </td></tr>\n",
       "\t<tr><td>717       </td><td>2012-12-17</td><td>4         </td><td>1         </td><td>12        </td><td>0         </td><td>1         </td><td>1         </td><td>2         </td><td>0.393333  </td><td>0.401500  </td><td>0.907083  </td><td>0.0982583 </td><td> 212      </td><td>4373      </td><td>4585      </td></tr>\n",
       "\t<tr><td>718       </td><td>2012-12-18</td><td>4         </td><td>1         </td><td>12        </td><td>0         </td><td>2         </td><td>1         </td><td>1         </td><td>0.410833  </td><td>0.409708  </td><td>0.666250  </td><td>0.2214040 </td><td> 433      </td><td>5124      </td><td>5557      </td></tr>\n",
       "\t<tr><td>719       </td><td>2012-12-19</td><td>4         </td><td>1         </td><td>12        </td><td>0         </td><td>3         </td><td>1         </td><td>1         </td><td>0.332500  </td><td>0.342162  </td><td>0.625417  </td><td>0.1840920 </td><td> 333      </td><td>4934      </td><td>5267      </td></tr>\n",
       "\t<tr><td>720       </td><td>2012-12-20</td><td>4         </td><td>1         </td><td>12        </td><td>0         </td><td>4         </td><td>1         </td><td>2         </td><td>0.330000  </td><td>0.335217  </td><td>0.667917  </td><td>0.1324630 </td><td> 314      </td><td>3814      </td><td>4128      </td></tr>\n",
       "\t<tr><td>721       </td><td>2012-12-21</td><td>1         </td><td>1         </td><td>12        </td><td>0         </td><td>5         </td><td>1         </td><td>2         </td><td>0.326667  </td><td>0.301767  </td><td>0.556667  </td><td>0.3743830 </td><td> 221      </td><td>3402      </td><td>3623      </td></tr>\n",
       "\t<tr><td>722       </td><td>2012-12-22</td><td>1         </td><td>1         </td><td>12        </td><td>0         </td><td>6         </td><td>0         </td><td>1         </td><td>0.265833  </td><td>0.236113  </td><td>0.441250  </td><td>0.4073460 </td><td> 205      </td><td>1544      </td><td>1749      </td></tr>\n",
       "\t<tr><td>723       </td><td>2012-12-23</td><td>1         </td><td>1         </td><td>12        </td><td>0         </td><td>0         </td><td>0         </td><td>1         </td><td>0.245833  </td><td>0.259471  </td><td>0.515417  </td><td>0.1330830 </td><td> 408      </td><td>1379      </td><td>1787      </td></tr>\n",
       "\t<tr><td>724       </td><td>2012-12-24</td><td>1         </td><td>1         </td><td>12        </td><td>0         </td><td>1         </td><td>1         </td><td>2         </td><td>0.231304  </td><td>0.258900  </td><td>0.791304  </td><td>0.0772304 </td><td> 174      </td><td> 746      </td><td> 920      </td></tr>\n",
       "\t<tr><td>725       </td><td>2012-12-25</td><td>1         </td><td>1         </td><td>12        </td><td>1         </td><td>2         </td><td>0         </td><td>2         </td><td>0.291304  </td><td>0.294465  </td><td>0.734783  </td><td>0.1687260 </td><td> 440      </td><td> 573      </td><td>1013      </td></tr>\n",
       "\t<tr><td>726       </td><td>2012-12-26</td><td>1         </td><td>1         </td><td>12        </td><td>0         </td><td>3         </td><td>1         </td><td>3         </td><td>0.243333  </td><td>0.220333  </td><td>0.823333  </td><td>0.3165460 </td><td>   9      </td><td> 432      </td><td> 441      </td></tr>\n",
       "\t<tr><td>727       </td><td>2012-12-27</td><td>1         </td><td>1         </td><td>12        </td><td>0         </td><td>4         </td><td>1         </td><td>2         </td><td>0.254167  </td><td>0.226642  </td><td>0.652917  </td><td>0.3501330 </td><td> 247      </td><td>1867      </td><td>2114      </td></tr>\n",
       "\t<tr><td>728       </td><td>2012-12-28</td><td>1         </td><td>1         </td><td>12        </td><td>0         </td><td>5         </td><td>1         </td><td>2         </td><td>0.253333  </td><td>0.255046  </td><td>0.590000  </td><td>0.1554710 </td><td> 644      </td><td>2451      </td><td>3095      </td></tr>\n",
       "\t<tr><td>729       </td><td>2012-12-29</td><td>1         </td><td>1         </td><td>12        </td><td>0         </td><td>6         </td><td>0         </td><td>2         </td><td>0.253333  </td><td>0.242400  </td><td>0.752917  </td><td>0.1243830 </td><td> 159      </td><td>1182      </td><td>1341      </td></tr>\n",
       "\t<tr><td>730       </td><td>2012-12-30</td><td>1         </td><td>1         </td><td>12        </td><td>0         </td><td>0         </td><td>0         </td><td>1         </td><td>0.255833  </td><td>0.231700  </td><td>0.483333  </td><td>0.3507540 </td><td> 364      </td><td>1432      </td><td>1796      </td></tr>\n",
       "\t<tr><td>731       </td><td>2012-12-31</td><td>1         </td><td>1         </td><td>12        </td><td>0         </td><td>1         </td><td>1         </td><td>2         </td><td>0.215833  </td><td>0.223487  </td><td>0.577500  </td><td>0.1548460 </td><td> 439      </td><td>2290      </td><td>2729      </td></tr>\n",
       "</tbody>\n",
       "</table>\n"
      ],
      "text/latex": [
       "\\begin{tabular}{r|llllllllllllllll}\n",
       " instant & dteday & season & yr & mnth & holiday & weekday & workingday & weathersit & temp & atemp & hum & windspeed & casual & registered & cnt\\\\\n",
       "\\hline\n",
       "\t  1         & 2011-01-01 & 1          & 0          & 1          & 0          & 6          & 0          & 2          & 0.3441670  & 0.3636250  & 0.805833   & 0.1604460  & 331        &  654       &  985      \\\\\n",
       "\t  2         & 2011-01-02 & 1          & 0          & 1          & 0          & 0          & 0          & 2          & 0.3634780  & 0.3537390  & 0.696087   & 0.2485390  & 131        &  670       &  801      \\\\\n",
       "\t  3         & 2011-01-03 & 1          & 0          & 1          & 0          & 1          & 1          & 1          & 0.1963640  & 0.1894050  & 0.437273   & 0.2483090  & 120        & 1229       & 1349      \\\\\n",
       "\t  4         & 2011-01-04 & 1          & 0          & 1          & 0          & 2          & 1          & 1          & 0.2000000  & 0.2121220  & 0.590435   & 0.1602960  & 108        & 1454       & 1562      \\\\\n",
       "\t  5         & 2011-01-05 & 1          & 0          & 1          & 0          & 3          & 1          & 1          & 0.2269570  & 0.2292700  & 0.436957   & 0.1869000  &  82        & 1518       & 1600      \\\\\n",
       "\t  6         & 2011-01-06 & 1          & 0          & 1          & 0          & 4          & 1          & 1          & 0.2043480  & 0.2332090  & 0.518261   & 0.0895652  &  88        & 1518       & 1606      \\\\\n",
       "\t  7         & 2011-01-07 & 1          & 0          & 1          & 0          & 5          & 1          & 2          & 0.1965220  & 0.2088390  & 0.498696   & 0.1687260  & 148        & 1362       & 1510      \\\\\n",
       "\t  8         & 2011-01-08 & 1          & 0          & 1          & 0          & 6          & 0          & 2          & 0.1650000  & 0.1622540  & 0.535833   & 0.2668040  &  68        &  891       &  959      \\\\\n",
       "\t  9         & 2011-01-09 & 1          & 0          & 1          & 0          & 0          & 0          & 1          & 0.1383330  & 0.1161750  & 0.434167   & 0.3619500  &  54        &  768       &  822      \\\\\n",
       "\t 10         & 2011-01-10 & 1          & 0          & 1          & 0          & 1          & 1          & 1          & 0.1508330  & 0.1508880  & 0.482917   & 0.2232670  &  41        & 1280       & 1321      \\\\\n",
       "\t 11         & 2011-01-11 & 1          & 0          & 1          & 0          & 2          & 1          & 2          & 0.1690910  & 0.1914640  & 0.686364   & 0.1221320  &  43        & 1220       & 1263      \\\\\n",
       "\t 12         & 2011-01-12 & 1          & 0          & 1          & 0          & 3          & 1          & 1          & 0.1727270  & 0.1604730  & 0.599545   & 0.3046270  &  25        & 1137       & 1162      \\\\\n",
       "\t 13         & 2011-01-13 & 1          & 0          & 1          & 0          & 4          & 1          & 1          & 0.1650000  & 0.1508830  & 0.470417   & 0.3010000  &  38        & 1368       & 1406      \\\\\n",
       "\t 14         & 2011-01-14 & 1          & 0          & 1          & 0          & 5          & 1          & 1          & 0.1608700  & 0.1884130  & 0.537826   & 0.1265480  &  54        & 1367       & 1421      \\\\\n",
       "\t 15         & 2011-01-15 & 1          & 0          & 1          & 0          & 6          & 0          & 2          & 0.2333330  & 0.2481120  & 0.498750   & 0.1579630  & 222        & 1026       & 1248      \\\\\n",
       "\t 16         & 2011-01-16 & 1          & 0          & 1          & 0          & 0          & 0          & 1          & 0.2316670  & 0.2342170  & 0.483750   & 0.1884330  & 251        &  953       & 1204      \\\\\n",
       "\t 17         & 2011-01-17 & 1          & 0          & 1          & 1          & 1          & 0          & 2          & 0.1758330  & 0.1767710  & 0.537500   & 0.1940170  & 117        &  883       & 1000      \\\\\n",
       "\t 18         & 2011-01-18 & 1          & 0          & 1          & 0          & 2          & 1          & 2          & 0.2166670  & 0.2323330  & 0.861667   & 0.1467750  &   9        &  674       &  683      \\\\\n",
       "\t 19         & 2011-01-19 & 1          & 0          & 1          & 0          & 3          & 1          & 2          & 0.2921740  & 0.2984220  & 0.741739   & 0.2083170  &  78        & 1572       & 1650      \\\\\n",
       "\t 20         & 2011-01-20 & 1          & 0          & 1          & 0          & 4          & 1          & 2          & 0.2616670  & 0.2550500  & 0.538333   & 0.1959040  &  83        & 1844       & 1927      \\\\\n",
       "\t 21         & 2011-01-21 & 1          & 0          & 1          & 0          & 5          & 1          & 1          & 0.1775000  & 0.1578330  & 0.457083   & 0.3532420  &  75        & 1468       & 1543      \\\\\n",
       "\t 22         & 2011-01-22 & 1          & 0          & 1          & 0          & 6          & 0          & 1          & 0.0591304  & 0.0790696  & 0.400000   & 0.1719700  &  93        &  888       &  981      \\\\\n",
       "\t 23         & 2011-01-23 & 1          & 0          & 1          & 0          & 0          & 0          & 1          & 0.0965217  & 0.0988391  & 0.436522   & 0.2466000  & 150        &  836       &  986      \\\\\n",
       "\t 24         & 2011-01-24 & 1          & 0          & 1          & 0          & 1          & 1          & 1          & 0.0973913  & 0.1179300  & 0.491739   & 0.1583300  &  86        & 1330       & 1416      \\\\\n",
       "\t 25         & 2011-01-25 & 1          & 0          & 1          & 0          & 2          & 1          & 2          & 0.2234780  & 0.2345260  & 0.616957   & 0.1297960  & 186        & 1799       & 1985      \\\\\n",
       "\t 26         & 2011-01-26 & 1          & 0          & 1          & 0          & 3          & 1          & 3          & 0.2175000  & 0.2036000  & 0.862500   & 0.2938500  &  34        &  472       &  506      \\\\\n",
       "\t 27         & 2011-01-27 & 1          & 0          & 1          & 0          & 4          & 1          & 1          & 0.1950000  & 0.2197000  & 0.687500   & 0.1138370  &  15        &  416       &  431      \\\\\n",
       "\t 28         & 2011-01-28 & 1          & 0          & 1          & 0          & 5          & 1          & 2          & 0.2034780  & 0.2233170  & 0.793043   & 0.1233000  &  38        & 1129       & 1167      \\\\\n",
       "\t 29         & 2011-01-29 & 1          & 0          & 1          & 0          & 6          & 0          & 1          & 0.1965220  & 0.2121260  & 0.651739   & 0.1453650  & 123        &  975       & 1098      \\\\\n",
       "\t 30         & 2011-01-30 & 1          & 0          & 1          & 0          & 0          & 0          & 1          & 0.2165220  & 0.2503220  & 0.722174   & 0.0739826  & 140        &  956       & 1096      \\\\\n",
       "\t ... & ... & ... & ... & ... & ... & ... & ... & ... & ... & ... & ... & ... & ... & ... & ...\\\\\n",
       "\t 702        & 2012-12-02 & 4          & 1          & 12         & 0          & 0          & 0          & 2          & 0.347500   & 0.359208   & 0.823333   & 0.1243790  &  892       & 3757       & 4649      \\\\\n",
       "\t 703        & 2012-12-03 & 4          & 1          & 12         & 0          & 1          & 1          & 1          & 0.452500   & 0.455796   & 0.767500   & 0.0827208  &  555       & 5679       & 6234      \\\\\n",
       "\t 704        & 2012-12-04 & 4          & 1          & 12         & 0          & 2          & 1          & 1          & 0.475833   & 0.469054   & 0.733750   & 0.1741290  &  551       & 6055       & 6606      \\\\\n",
       "\t 705        & 2012-12-05 & 4          & 1          & 12         & 0          & 3          & 1          & 1          & 0.438333   & 0.428012   & 0.485000   & 0.3240210  &  331       & 5398       & 5729      \\\\\n",
       "\t 706        & 2012-12-06 & 4          & 1          & 12         & 0          & 4          & 1          & 1          & 0.255833   & 0.258204   & 0.508750   & 0.1747540  &  340       & 5035       & 5375      \\\\\n",
       "\t 707        & 2012-12-07 & 4          & 1          & 12         & 0          & 5          & 1          & 2          & 0.320833   & 0.321958   & 0.764167   & 0.1306000  &  349       & 4659       & 5008      \\\\\n",
       "\t 708        & 2012-12-08 & 4          & 1          & 12         & 0          & 6          & 0          & 2          & 0.381667   & 0.389508   & 0.911250   & 0.1013790  & 1153       & 4429       & 5582      \\\\\n",
       "\t 709        & 2012-12-09 & 4          & 1          & 12         & 0          & 0          & 0          & 2          & 0.384167   & 0.390146   & 0.905417   & 0.1579750  &  441       & 2787       & 3228      \\\\\n",
       "\t 710        & 2012-12-10 & 4          & 1          & 12         & 0          & 1          & 1          & 2          & 0.435833   & 0.435575   & 0.925000   & 0.1903080  &  329       & 4841       & 5170      \\\\\n",
       "\t 711        & 2012-12-11 & 4          & 1          & 12         & 0          & 2          & 1          & 2          & 0.353333   & 0.338363   & 0.596667   & 0.2960370  &  282       & 5219       & 5501      \\\\\n",
       "\t 712        & 2012-12-12 & 4          & 1          & 12         & 0          & 3          & 1          & 2          & 0.297500   & 0.297338   & 0.538333   & 0.1629370  &  310       & 5009       & 5319      \\\\\n",
       "\t 713        & 2012-12-13 & 4          & 1          & 12         & 0          & 4          & 1          & 1          & 0.295833   & 0.294188   & 0.485833   & 0.1741290  &  425       & 5107       & 5532      \\\\\n",
       "\t 714        & 2012-12-14 & 4          & 1          & 12         & 0          & 5          & 1          & 1          & 0.281667   & 0.294192   & 0.642917   & 0.1312290  &  429       & 5182       & 5611      \\\\\n",
       "\t 715        & 2012-12-15 & 4          & 1          & 12         & 0          & 6          & 0          & 1          & 0.324167   & 0.338383   & 0.650417   & 0.1063500  &  767       & 4280       & 5047      \\\\\n",
       "\t 716        & 2012-12-16 & 4          & 1          & 12         & 0          & 0          & 0          & 2          & 0.362500   & 0.369938   & 0.838750   & 0.1007420  &  538       & 3248       & 3786      \\\\\n",
       "\t 717        & 2012-12-17 & 4          & 1          & 12         & 0          & 1          & 1          & 2          & 0.393333   & 0.401500   & 0.907083   & 0.0982583  &  212       & 4373       & 4585      \\\\\n",
       "\t 718        & 2012-12-18 & 4          & 1          & 12         & 0          & 2          & 1          & 1          & 0.410833   & 0.409708   & 0.666250   & 0.2214040  &  433       & 5124       & 5557      \\\\\n",
       "\t 719        & 2012-12-19 & 4          & 1          & 12         & 0          & 3          & 1          & 1          & 0.332500   & 0.342162   & 0.625417   & 0.1840920  &  333       & 4934       & 5267      \\\\\n",
       "\t 720        & 2012-12-20 & 4          & 1          & 12         & 0          & 4          & 1          & 2          & 0.330000   & 0.335217   & 0.667917   & 0.1324630  &  314       & 3814       & 4128      \\\\\n",
       "\t 721        & 2012-12-21 & 1          & 1          & 12         & 0          & 5          & 1          & 2          & 0.326667   & 0.301767   & 0.556667   & 0.3743830  &  221       & 3402       & 3623      \\\\\n",
       "\t 722        & 2012-12-22 & 1          & 1          & 12         & 0          & 6          & 0          & 1          & 0.265833   & 0.236113   & 0.441250   & 0.4073460  &  205       & 1544       & 1749      \\\\\n",
       "\t 723        & 2012-12-23 & 1          & 1          & 12         & 0          & 0          & 0          & 1          & 0.245833   & 0.259471   & 0.515417   & 0.1330830  &  408       & 1379       & 1787      \\\\\n",
       "\t 724        & 2012-12-24 & 1          & 1          & 12         & 0          & 1          & 1          & 2          & 0.231304   & 0.258900   & 0.791304   & 0.0772304  &  174       &  746       &  920      \\\\\n",
       "\t 725        & 2012-12-25 & 1          & 1          & 12         & 1          & 2          & 0          & 2          & 0.291304   & 0.294465   & 0.734783   & 0.1687260  &  440       &  573       & 1013      \\\\\n",
       "\t 726        & 2012-12-26 & 1          & 1          & 12         & 0          & 3          & 1          & 3          & 0.243333   & 0.220333   & 0.823333   & 0.3165460  &    9       &  432       &  441      \\\\\n",
       "\t 727        & 2012-12-27 & 1          & 1          & 12         & 0          & 4          & 1          & 2          & 0.254167   & 0.226642   & 0.652917   & 0.3501330  &  247       & 1867       & 2114      \\\\\n",
       "\t 728        & 2012-12-28 & 1          & 1          & 12         & 0          & 5          & 1          & 2          & 0.253333   & 0.255046   & 0.590000   & 0.1554710  &  644       & 2451       & 3095      \\\\\n",
       "\t 729        & 2012-12-29 & 1          & 1          & 12         & 0          & 6          & 0          & 2          & 0.253333   & 0.242400   & 0.752917   & 0.1243830  &  159       & 1182       & 1341      \\\\\n",
       "\t 730        & 2012-12-30 & 1          & 1          & 12         & 0          & 0          & 0          & 1          & 0.255833   & 0.231700   & 0.483333   & 0.3507540  &  364       & 1432       & 1796      \\\\\n",
       "\t 731        & 2012-12-31 & 1          & 1          & 12         & 0          & 1          & 1          & 2          & 0.215833   & 0.223487   & 0.577500   & 0.1548460  &  439       & 2290       & 2729      \\\\\n",
       "\\end{tabular}\n"
      ],
      "text/markdown": [
       "\n",
       "instant | dteday | season | yr | mnth | holiday | weekday | workingday | weathersit | temp | atemp | hum | windspeed | casual | registered | cnt | \n",
       "|---|---|---|---|---|---|---|---|---|---|---|---|---|---|---|---|---|---|---|---|---|---|---|---|---|---|---|---|---|---|---|---|---|---|---|---|---|---|---|---|---|---|---|---|---|---|---|---|---|---|---|---|---|---|---|---|---|---|---|---|---|\n",
       "|  1         | 2011-01-01 | 1          | 0          | 1          | 0          | 6          | 0          | 2          | 0.3441670  | 0.3636250  | 0.805833   | 0.1604460  | 331        |  654       |  985       | \n",
       "|  2         | 2011-01-02 | 1          | 0          | 1          | 0          | 0          | 0          | 2          | 0.3634780  | 0.3537390  | 0.696087   | 0.2485390  | 131        |  670       |  801       | \n",
       "|  3         | 2011-01-03 | 1          | 0          | 1          | 0          | 1          | 1          | 1          | 0.1963640  | 0.1894050  | 0.437273   | 0.2483090  | 120        | 1229       | 1349       | \n",
       "|  4         | 2011-01-04 | 1          | 0          | 1          | 0          | 2          | 1          | 1          | 0.2000000  | 0.2121220  | 0.590435   | 0.1602960  | 108        | 1454       | 1562       | \n",
       "|  5         | 2011-01-05 | 1          | 0          | 1          | 0          | 3          | 1          | 1          | 0.2269570  | 0.2292700  | 0.436957   | 0.1869000  |  82        | 1518       | 1600       | \n",
       "|  6         | 2011-01-06 | 1          | 0          | 1          | 0          | 4          | 1          | 1          | 0.2043480  | 0.2332090  | 0.518261   | 0.0895652  |  88        | 1518       | 1606       | \n",
       "|  7         | 2011-01-07 | 1          | 0          | 1          | 0          | 5          | 1          | 2          | 0.1965220  | 0.2088390  | 0.498696   | 0.1687260  | 148        | 1362       | 1510       | \n",
       "|  8         | 2011-01-08 | 1          | 0          | 1          | 0          | 6          | 0          | 2          | 0.1650000  | 0.1622540  | 0.535833   | 0.2668040  |  68        |  891       |  959       | \n",
       "|  9         | 2011-01-09 | 1          | 0          | 1          | 0          | 0          | 0          | 1          | 0.1383330  | 0.1161750  | 0.434167   | 0.3619500  |  54        |  768       |  822       | \n",
       "| 10         | 2011-01-10 | 1          | 0          | 1          | 0          | 1          | 1          | 1          | 0.1508330  | 0.1508880  | 0.482917   | 0.2232670  |  41        | 1280       | 1321       | \n",
       "| 11         | 2011-01-11 | 1          | 0          | 1          | 0          | 2          | 1          | 2          | 0.1690910  | 0.1914640  | 0.686364   | 0.1221320  |  43        | 1220       | 1263       | \n",
       "| 12         | 2011-01-12 | 1          | 0          | 1          | 0          | 3          | 1          | 1          | 0.1727270  | 0.1604730  | 0.599545   | 0.3046270  |  25        | 1137       | 1162       | \n",
       "| 13         | 2011-01-13 | 1          | 0          | 1          | 0          | 4          | 1          | 1          | 0.1650000  | 0.1508830  | 0.470417   | 0.3010000  |  38        | 1368       | 1406       | \n",
       "| 14         | 2011-01-14 | 1          | 0          | 1          | 0          | 5          | 1          | 1          | 0.1608700  | 0.1884130  | 0.537826   | 0.1265480  |  54        | 1367       | 1421       | \n",
       "| 15         | 2011-01-15 | 1          | 0          | 1          | 0          | 6          | 0          | 2          | 0.2333330  | 0.2481120  | 0.498750   | 0.1579630  | 222        | 1026       | 1248       | \n",
       "| 16         | 2011-01-16 | 1          | 0          | 1          | 0          | 0          | 0          | 1          | 0.2316670  | 0.2342170  | 0.483750   | 0.1884330  | 251        |  953       | 1204       | \n",
       "| 17         | 2011-01-17 | 1          | 0          | 1          | 1          | 1          | 0          | 2          | 0.1758330  | 0.1767710  | 0.537500   | 0.1940170  | 117        |  883       | 1000       | \n",
       "| 18         | 2011-01-18 | 1          | 0          | 1          | 0          | 2          | 1          | 2          | 0.2166670  | 0.2323330  | 0.861667   | 0.1467750  |   9        |  674       |  683       | \n",
       "| 19         | 2011-01-19 | 1          | 0          | 1          | 0          | 3          | 1          | 2          | 0.2921740  | 0.2984220  | 0.741739   | 0.2083170  |  78        | 1572       | 1650       | \n",
       "| 20         | 2011-01-20 | 1          | 0          | 1          | 0          | 4          | 1          | 2          | 0.2616670  | 0.2550500  | 0.538333   | 0.1959040  |  83        | 1844       | 1927       | \n",
       "| 21         | 2011-01-21 | 1          | 0          | 1          | 0          | 5          | 1          | 1          | 0.1775000  | 0.1578330  | 0.457083   | 0.3532420  |  75        | 1468       | 1543       | \n",
       "| 22         | 2011-01-22 | 1          | 0          | 1          | 0          | 6          | 0          | 1          | 0.0591304  | 0.0790696  | 0.400000   | 0.1719700  |  93        |  888       |  981       | \n",
       "| 23         | 2011-01-23 | 1          | 0          | 1          | 0          | 0          | 0          | 1          | 0.0965217  | 0.0988391  | 0.436522   | 0.2466000  | 150        |  836       |  986       | \n",
       "| 24         | 2011-01-24 | 1          | 0          | 1          | 0          | 1          | 1          | 1          | 0.0973913  | 0.1179300  | 0.491739   | 0.1583300  |  86        | 1330       | 1416       | \n",
       "| 25         | 2011-01-25 | 1          | 0          | 1          | 0          | 2          | 1          | 2          | 0.2234780  | 0.2345260  | 0.616957   | 0.1297960  | 186        | 1799       | 1985       | \n",
       "| 26         | 2011-01-26 | 1          | 0          | 1          | 0          | 3          | 1          | 3          | 0.2175000  | 0.2036000  | 0.862500   | 0.2938500  |  34        |  472       |  506       | \n",
       "| 27         | 2011-01-27 | 1          | 0          | 1          | 0          | 4          | 1          | 1          | 0.1950000  | 0.2197000  | 0.687500   | 0.1138370  |  15        |  416       |  431       | \n",
       "| 28         | 2011-01-28 | 1          | 0          | 1          | 0          | 5          | 1          | 2          | 0.2034780  | 0.2233170  | 0.793043   | 0.1233000  |  38        | 1129       | 1167       | \n",
       "| 29         | 2011-01-29 | 1          | 0          | 1          | 0          | 6          | 0          | 1          | 0.1965220  | 0.2121260  | 0.651739   | 0.1453650  | 123        |  975       | 1098       | \n",
       "| 30         | 2011-01-30 | 1          | 0          | 1          | 0          | 0          | 0          | 1          | 0.2165220  | 0.2503220  | 0.722174   | 0.0739826  | 140        |  956       | 1096       | \n",
       "| ... | ... | ... | ... | ... | ... | ... | ... | ... | ... | ... | ... | ... | ... | ... | ... | \n",
       "| 702        | 2012-12-02 | 4          | 1          | 12         | 0          | 0          | 0          | 2          | 0.347500   | 0.359208   | 0.823333   | 0.1243790  |  892       | 3757       | 4649       | \n",
       "| 703        | 2012-12-03 | 4          | 1          | 12         | 0          | 1          | 1          | 1          | 0.452500   | 0.455796   | 0.767500   | 0.0827208  |  555       | 5679       | 6234       | \n",
       "| 704        | 2012-12-04 | 4          | 1          | 12         | 0          | 2          | 1          | 1          | 0.475833   | 0.469054   | 0.733750   | 0.1741290  |  551       | 6055       | 6606       | \n",
       "| 705        | 2012-12-05 | 4          | 1          | 12         | 0          | 3          | 1          | 1          | 0.438333   | 0.428012   | 0.485000   | 0.3240210  |  331       | 5398       | 5729       | \n",
       "| 706        | 2012-12-06 | 4          | 1          | 12         | 0          | 4          | 1          | 1          | 0.255833   | 0.258204   | 0.508750   | 0.1747540  |  340       | 5035       | 5375       | \n",
       "| 707        | 2012-12-07 | 4          | 1          | 12         | 0          | 5          | 1          | 2          | 0.320833   | 0.321958   | 0.764167   | 0.1306000  |  349       | 4659       | 5008       | \n",
       "| 708        | 2012-12-08 | 4          | 1          | 12         | 0          | 6          | 0          | 2          | 0.381667   | 0.389508   | 0.911250   | 0.1013790  | 1153       | 4429       | 5582       | \n",
       "| 709        | 2012-12-09 | 4          | 1          | 12         | 0          | 0          | 0          | 2          | 0.384167   | 0.390146   | 0.905417   | 0.1579750  |  441       | 2787       | 3228       | \n",
       "| 710        | 2012-12-10 | 4          | 1          | 12         | 0          | 1          | 1          | 2          | 0.435833   | 0.435575   | 0.925000   | 0.1903080  |  329       | 4841       | 5170       | \n",
       "| 711        | 2012-12-11 | 4          | 1          | 12         | 0          | 2          | 1          | 2          | 0.353333   | 0.338363   | 0.596667   | 0.2960370  |  282       | 5219       | 5501       | \n",
       "| 712        | 2012-12-12 | 4          | 1          | 12         | 0          | 3          | 1          | 2          | 0.297500   | 0.297338   | 0.538333   | 0.1629370  |  310       | 5009       | 5319       | \n",
       "| 713        | 2012-12-13 | 4          | 1          | 12         | 0          | 4          | 1          | 1          | 0.295833   | 0.294188   | 0.485833   | 0.1741290  |  425       | 5107       | 5532       | \n",
       "| 714        | 2012-12-14 | 4          | 1          | 12         | 0          | 5          | 1          | 1          | 0.281667   | 0.294192   | 0.642917   | 0.1312290  |  429       | 5182       | 5611       | \n",
       "| 715        | 2012-12-15 | 4          | 1          | 12         | 0          | 6          | 0          | 1          | 0.324167   | 0.338383   | 0.650417   | 0.1063500  |  767       | 4280       | 5047       | \n",
       "| 716        | 2012-12-16 | 4          | 1          | 12         | 0          | 0          | 0          | 2          | 0.362500   | 0.369938   | 0.838750   | 0.1007420  |  538       | 3248       | 3786       | \n",
       "| 717        | 2012-12-17 | 4          | 1          | 12         | 0          | 1          | 1          | 2          | 0.393333   | 0.401500   | 0.907083   | 0.0982583  |  212       | 4373       | 4585       | \n",
       "| 718        | 2012-12-18 | 4          | 1          | 12         | 0          | 2          | 1          | 1          | 0.410833   | 0.409708   | 0.666250   | 0.2214040  |  433       | 5124       | 5557       | \n",
       "| 719        | 2012-12-19 | 4          | 1          | 12         | 0          | 3          | 1          | 1          | 0.332500   | 0.342162   | 0.625417   | 0.1840920  |  333       | 4934       | 5267       | \n",
       "| 720        | 2012-12-20 | 4          | 1          | 12         | 0          | 4          | 1          | 2          | 0.330000   | 0.335217   | 0.667917   | 0.1324630  |  314       | 3814       | 4128       | \n",
       "| 721        | 2012-12-21 | 1          | 1          | 12         | 0          | 5          | 1          | 2          | 0.326667   | 0.301767   | 0.556667   | 0.3743830  |  221       | 3402       | 3623       | \n",
       "| 722        | 2012-12-22 | 1          | 1          | 12         | 0          | 6          | 0          | 1          | 0.265833   | 0.236113   | 0.441250   | 0.4073460  |  205       | 1544       | 1749       | \n",
       "| 723        | 2012-12-23 | 1          | 1          | 12         | 0          | 0          | 0          | 1          | 0.245833   | 0.259471   | 0.515417   | 0.1330830  |  408       | 1379       | 1787       | \n",
       "| 724        | 2012-12-24 | 1          | 1          | 12         | 0          | 1          | 1          | 2          | 0.231304   | 0.258900   | 0.791304   | 0.0772304  |  174       |  746       |  920       | \n",
       "| 725        | 2012-12-25 | 1          | 1          | 12         | 1          | 2          | 0          | 2          | 0.291304   | 0.294465   | 0.734783   | 0.1687260  |  440       |  573       | 1013       | \n",
       "| 726        | 2012-12-26 | 1          | 1          | 12         | 0          | 3          | 1          | 3          | 0.243333   | 0.220333   | 0.823333   | 0.3165460  |    9       |  432       |  441       | \n",
       "| 727        | 2012-12-27 | 1          | 1          | 12         | 0          | 4          | 1          | 2          | 0.254167   | 0.226642   | 0.652917   | 0.3501330  |  247       | 1867       | 2114       | \n",
       "| 728        | 2012-12-28 | 1          | 1          | 12         | 0          | 5          | 1          | 2          | 0.253333   | 0.255046   | 0.590000   | 0.1554710  |  644       | 2451       | 3095       | \n",
       "| 729        | 2012-12-29 | 1          | 1          | 12         | 0          | 6          | 0          | 2          | 0.253333   | 0.242400   | 0.752917   | 0.1243830  |  159       | 1182       | 1341       | \n",
       "| 730        | 2012-12-30 | 1          | 1          | 12         | 0          | 0          | 0          | 1          | 0.255833   | 0.231700   | 0.483333   | 0.3507540  |  364       | 1432       | 1796       | \n",
       "| 731        | 2012-12-31 | 1          | 1          | 12         | 0          | 1          | 1          | 2          | 0.215833   | 0.223487   | 0.577500   | 0.1548460  |  439       | 2290       | 2729       | \n",
       "\n",
       "\n"
      ],
      "text/plain": [
       "    instant dteday     season yr  mnth holiday weekday workingday weathersit\n",
       "1    1      2011-01-01 1      0   1    0       6       0          2         \n",
       "2    2      2011-01-02 1      0   1    0       0       0          2         \n",
       "3    3      2011-01-03 1      0   1    0       1       1          1         \n",
       "4    4      2011-01-04 1      0   1    0       2       1          1         \n",
       "5    5      2011-01-05 1      0   1    0       3       1          1         \n",
       "6    6      2011-01-06 1      0   1    0       4       1          1         \n",
       "7    7      2011-01-07 1      0   1    0       5       1          2         \n",
       "8    8      2011-01-08 1      0   1    0       6       0          2         \n",
       "9    9      2011-01-09 1      0   1    0       0       0          1         \n",
       "10  10      2011-01-10 1      0   1    0       1       1          1         \n",
       "11  11      2011-01-11 1      0   1    0       2       1          2         \n",
       "12  12      2011-01-12 1      0   1    0       3       1          1         \n",
       "13  13      2011-01-13 1      0   1    0       4       1          1         \n",
       "14  14      2011-01-14 1      0   1    0       5       1          1         \n",
       "15  15      2011-01-15 1      0   1    0       6       0          2         \n",
       "16  16      2011-01-16 1      0   1    0       0       0          1         \n",
       "17  17      2011-01-17 1      0   1    1       1       0          2         \n",
       "18  18      2011-01-18 1      0   1    0       2       1          2         \n",
       "19  19      2011-01-19 1      0   1    0       3       1          2         \n",
       "20  20      2011-01-20 1      0   1    0       4       1          2         \n",
       "21  21      2011-01-21 1      0   1    0       5       1          1         \n",
       "22  22      2011-01-22 1      0   1    0       6       0          1         \n",
       "23  23      2011-01-23 1      0   1    0       0       0          1         \n",
       "24  24      2011-01-24 1      0   1    0       1       1          1         \n",
       "25  25      2011-01-25 1      0   1    0       2       1          2         \n",
       "26  26      2011-01-26 1      0   1    0       3       1          3         \n",
       "27  27      2011-01-27 1      0   1    0       4       1          1         \n",
       "28  28      2011-01-28 1      0   1    0       5       1          2         \n",
       "29  29      2011-01-29 1      0   1    0       6       0          1         \n",
       "30  30      2011-01-30 1      0   1    0       0       0          1         \n",
       "... ...     ...        ...    ... ...  ...     ...     ...        ...       \n",
       "702 702     2012-12-02 4      1   12   0       0       0          2         \n",
       "703 703     2012-12-03 4      1   12   0       1       1          1         \n",
       "704 704     2012-12-04 4      1   12   0       2       1          1         \n",
       "705 705     2012-12-05 4      1   12   0       3       1          1         \n",
       "706 706     2012-12-06 4      1   12   0       4       1          1         \n",
       "707 707     2012-12-07 4      1   12   0       5       1          2         \n",
       "708 708     2012-12-08 4      1   12   0       6       0          2         \n",
       "709 709     2012-12-09 4      1   12   0       0       0          2         \n",
       "710 710     2012-12-10 4      1   12   0       1       1          2         \n",
       "711 711     2012-12-11 4      1   12   0       2       1          2         \n",
       "712 712     2012-12-12 4      1   12   0       3       1          2         \n",
       "713 713     2012-12-13 4      1   12   0       4       1          1         \n",
       "714 714     2012-12-14 4      1   12   0       5       1          1         \n",
       "715 715     2012-12-15 4      1   12   0       6       0          1         \n",
       "716 716     2012-12-16 4      1   12   0       0       0          2         \n",
       "717 717     2012-12-17 4      1   12   0       1       1          2         \n",
       "718 718     2012-12-18 4      1   12   0       2       1          1         \n",
       "719 719     2012-12-19 4      1   12   0       3       1          1         \n",
       "720 720     2012-12-20 4      1   12   0       4       1          2         \n",
       "721 721     2012-12-21 1      1   12   0       5       1          2         \n",
       "722 722     2012-12-22 1      1   12   0       6       0          1         \n",
       "723 723     2012-12-23 1      1   12   0       0       0          1         \n",
       "724 724     2012-12-24 1      1   12   0       1       1          2         \n",
       "725 725     2012-12-25 1      1   12   1       2       0          2         \n",
       "726 726     2012-12-26 1      1   12   0       3       1          3         \n",
       "727 727     2012-12-27 1      1   12   0       4       1          2         \n",
       "728 728     2012-12-28 1      1   12   0       5       1          2         \n",
       "729 729     2012-12-29 1      1   12   0       6       0          2         \n",
       "730 730     2012-12-30 1      1   12   0       0       0          1         \n",
       "731 731     2012-12-31 1      1   12   0       1       1          2         \n",
       "    temp      atemp     hum      windspeed casual registered cnt \n",
       "1   0.3441670 0.3636250 0.805833 0.1604460 331     654        985\n",
       "2   0.3634780 0.3537390 0.696087 0.2485390 131     670        801\n",
       "3   0.1963640 0.1894050 0.437273 0.2483090 120    1229       1349\n",
       "4   0.2000000 0.2121220 0.590435 0.1602960 108    1454       1562\n",
       "5   0.2269570 0.2292700 0.436957 0.1869000  82    1518       1600\n",
       "6   0.2043480 0.2332090 0.518261 0.0895652  88    1518       1606\n",
       "7   0.1965220 0.2088390 0.498696 0.1687260 148    1362       1510\n",
       "8   0.1650000 0.1622540 0.535833 0.2668040  68     891        959\n",
       "9   0.1383330 0.1161750 0.434167 0.3619500  54     768        822\n",
       "10  0.1508330 0.1508880 0.482917 0.2232670  41    1280       1321\n",
       "11  0.1690910 0.1914640 0.686364 0.1221320  43    1220       1263\n",
       "12  0.1727270 0.1604730 0.599545 0.3046270  25    1137       1162\n",
       "13  0.1650000 0.1508830 0.470417 0.3010000  38    1368       1406\n",
       "14  0.1608700 0.1884130 0.537826 0.1265480  54    1367       1421\n",
       "15  0.2333330 0.2481120 0.498750 0.1579630 222    1026       1248\n",
       "16  0.2316670 0.2342170 0.483750 0.1884330 251     953       1204\n",
       "17  0.1758330 0.1767710 0.537500 0.1940170 117     883       1000\n",
       "18  0.2166670 0.2323330 0.861667 0.1467750   9     674        683\n",
       "19  0.2921740 0.2984220 0.741739 0.2083170  78    1572       1650\n",
       "20  0.2616670 0.2550500 0.538333 0.1959040  83    1844       1927\n",
       "21  0.1775000 0.1578330 0.457083 0.3532420  75    1468       1543\n",
       "22  0.0591304 0.0790696 0.400000 0.1719700  93     888        981\n",
       "23  0.0965217 0.0988391 0.436522 0.2466000 150     836        986\n",
       "24  0.0973913 0.1179300 0.491739 0.1583300  86    1330       1416\n",
       "25  0.2234780 0.2345260 0.616957 0.1297960 186    1799       1985\n",
       "26  0.2175000 0.2036000 0.862500 0.2938500  34     472        506\n",
       "27  0.1950000 0.2197000 0.687500 0.1138370  15     416        431\n",
       "28  0.2034780 0.2233170 0.793043 0.1233000  38    1129       1167\n",
       "29  0.1965220 0.2121260 0.651739 0.1453650 123     975       1098\n",
       "30  0.2165220 0.2503220 0.722174 0.0739826 140     956       1096\n",
       "... ...       ...       ...      ...       ...    ...        ... \n",
       "702 0.347500  0.359208  0.823333 0.1243790  892   3757       4649\n",
       "703 0.452500  0.455796  0.767500 0.0827208  555   5679       6234\n",
       "704 0.475833  0.469054  0.733750 0.1741290  551   6055       6606\n",
       "705 0.438333  0.428012  0.485000 0.3240210  331   5398       5729\n",
       "706 0.255833  0.258204  0.508750 0.1747540  340   5035       5375\n",
       "707 0.320833  0.321958  0.764167 0.1306000  349   4659       5008\n",
       "708 0.381667  0.389508  0.911250 0.1013790 1153   4429       5582\n",
       "709 0.384167  0.390146  0.905417 0.1579750  441   2787       3228\n",
       "710 0.435833  0.435575  0.925000 0.1903080  329   4841       5170\n",
       "711 0.353333  0.338363  0.596667 0.2960370  282   5219       5501\n",
       "712 0.297500  0.297338  0.538333 0.1629370  310   5009       5319\n",
       "713 0.295833  0.294188  0.485833 0.1741290  425   5107       5532\n",
       "714 0.281667  0.294192  0.642917 0.1312290  429   5182       5611\n",
       "715 0.324167  0.338383  0.650417 0.1063500  767   4280       5047\n",
       "716 0.362500  0.369938  0.838750 0.1007420  538   3248       3786\n",
       "717 0.393333  0.401500  0.907083 0.0982583  212   4373       4585\n",
       "718 0.410833  0.409708  0.666250 0.2214040  433   5124       5557\n",
       "719 0.332500  0.342162  0.625417 0.1840920  333   4934       5267\n",
       "720 0.330000  0.335217  0.667917 0.1324630  314   3814       4128\n",
       "721 0.326667  0.301767  0.556667 0.3743830  221   3402       3623\n",
       "722 0.265833  0.236113  0.441250 0.4073460  205   1544       1749\n",
       "723 0.245833  0.259471  0.515417 0.1330830  408   1379       1787\n",
       "724 0.231304  0.258900  0.791304 0.0772304  174    746        920\n",
       "725 0.291304  0.294465  0.734783 0.1687260  440    573       1013\n",
       "726 0.243333  0.220333  0.823333 0.3165460    9    432        441\n",
       "727 0.254167  0.226642  0.652917 0.3501330  247   1867       2114\n",
       "728 0.253333  0.255046  0.590000 0.1554710  644   2451       3095\n",
       "729 0.253333  0.242400  0.752917 0.1243830  159   1182       1341\n",
       "730 0.255833  0.231700  0.483333 0.3507540  364   1432       1796\n",
       "731 0.215833  0.223487  0.577500 0.1548460  439   2290       2729"
      ]
     },
     "metadata": {},
     "output_type": "display_data"
    }
   ],
   "source": [
    "df"
   ]
  },
  {
   "cell_type": "markdown",
   "metadata": {},
   "source": [
    "A dataframe is a two dimensional matrix much like an Excel worksheet where each column has a name and data is presented in rows. \n",
    "\n",
    "In order to access the data from specific columns we can use the following syntax:\n",
    "\n",
    "```R\n",
    "dataframe$columnname\n",
    "```\n",
    "\n",
    "If you try this in a code cell, you will see all the potential columns show up to select if you hit `tab` after the `$` symbol.\n",
    "\n",
    "You can access ranges of columns or rows with this syntax:\n",
    "\n",
    "```R\n",
    "dataframe[rows, columns]\n",
    "dataframe[1:5,] # This would retrieve (what we call slice) the first 5 rows.\n",
    "dataframe[,1:5] # This would retrieve (what we call slice) the first 5 columns.\n",
    "```\n",
    "\n",
    "You can also slice columns based on their name.\n",
    "\n",
    "```R\n",
    "dataframe['columnname'] # one column named 'columnname'\n",
    "dataframe[c('columnname1','columnname2')] # two columns using `c()` combine function.\n",
    "```\n",
    "\n"
   ]
  },
  {
   "cell_type": "code",
   "execution_count": null,
   "metadata": {
    "collapsed": true
   },
   "outputs": [],
   "source": [
    "# try slicing your dataframe here"
   ]
  },
  {
   "cell_type": "markdown",
   "metadata": {},
   "source": [
    "# Visualize the data\n",
    "\n",
    "Creating a plot of your data is often one of the first approaches data scientists use to better understand the data and specifically look at the distribution of the data.\n",
    "\n",
    "R has two major plotting packages `plot()` and `ggplot()`. Ggplot2 is the most popular, so we will use it going forward. \n",
    "\n",
    "The general syntax is to set up an empty plot `ggplot()` and then add a geom or \"geometrical object\" to represent the data. Geoms inlcude points, bars, lines, and other graphical representations. Here is a simple example:\n",
    "\n",
    "```R\n",
    "ggplot(data = dataframe) # this creates an empty plot that you can add layers to using the \n",
    "\n",
    "+ # this adds the layer functions we want to the base plot\n",
    "\n",
    "geom_points(mapping = aes(x=x_column+name, y=y_column_name)) # geom_points says we want a scatterplot (points) and mapping = defines how we want to map variables into the x and y axes\n",
    "\n",
    "```\n",
    "\n",
    "The `aes()` stands for \"aesthetic\" and is where you define how you want to display the data on the plot. This term is derived from concepts behind the book [Grammar of Graphics](https://www.amazon.com/Grammar-Graphics-Statistics-Computing/dp/0387245448) which is also why ggplot has a \"gg\" in its name. \n",
    "\n",
    "It is easy to add custom formatting to a plot by adding on functions with a plus symbol `+`. Here are some of the basic ones:\n",
    "\n",
    "\n",
    "```R\n",
    "+ ggtitle(\"Main plot title\") # add a title\n",
    "+ ylab(\"This is the Y axis\") # add a axis label change y to x for other axis\n",
    "```\n",
    "\n",
    "Execute the code in the next code block. Try changing the geom from geom_point to other shapes. You can also add geoms that conduct statistical transforms to represent the data line `geom_smooth()` http://ggplot2.tidyverse.org/reference/geom_smooth.html.\n"
   ]
  },
  {
   "cell_type": "code",
   "execution_count": 17,
   "metadata": {
    "collapsed": false
   },
   "outputs": [
    {
     "data": {},
     "metadata": {},
     "output_type": "display_data"
    },
    {
     "data": {
      "image/png": "[encoded data removed]",
      "text/plain": [
       "plot without title"
      ]
     },
     "metadata": {},
     "output_type": "display_data"
    }
   ],
   "source": [
    "ggplot(data=df) + geom_point(mapping= aes(x=dteday, y=cnt))"
   ]
  },
  {
   "cell_type": "markdown",
   "metadata": {},
   "source": [
    "# Using dplyr to continue the analysis\n",
    "\n",
    "After an intial visualization, most analyses will involve looking at different or more specific manipulations of the data in the dataframe. Dplyr offers several useful functions for this manipulation including:\n",
    "\n",
    "```R\n",
    "summarise() # create new variables which summarize the data, for example a mean of values\n",
    "filter() # filter out cases (usually rows based on their values)\n",
    "mutate() # add new variables to the dataframe\n",
    "select() # choose a subset of columns in a dataframe\n",
    "arrange() # sort the dataframe\n",
    "group_by() # analyze the data by grouping\n",
    "```\n",
    "\n",
    "These different functions can be combined to create a data pipeline where each step is a different operation on the dataframe. In dplyr, data can be pipelined between different steps using the pipeline operator `%>%`.  Here is an example:\n",
    "\n",
    "```R\n",
    "df %>% \n",
    "select(col1, col2) %>% \n",
    "mutate(col_add = col1 + col2) -> df_new\n",
    "```\n",
    "\n",
    "The code block above does the following:\n",
    "\n",
    "* line1: send the dataframe to the next function/line\n",
    "* line 2: select the two columns called \"col1\" and col2\" from df and send to the next function/line\n",
    "* line 3: take the new dataframe (just two columns) and create a new column called \"col_add\" as a sum of the two columns and assign to a dataframe called \"df_new\".\n",
    "\n",
    "\n",
    "\n",
    "\n",
    "The best way to guide an analysis is to start with a question to answer\n"
   ]
  },
  {
   "cell_type": "markdown",
   "metadata": {},
   "source": [
    "# Do rentals vary by day of the week?\n",
    "\n",
    "To answer this question, we need to examine the count of rentals \"cnt\" in groups defined by the day of the week \"weekday\" where Sunday is 0. We can then look at the average count of rentals by weekday. Then we can plot the results."
   ]
  },
  {
   "cell_type": "code",
   "execution_count": 42,
   "metadata": {
    "collapsed": false,
    "scrolled": false
   },
   "outputs": [
    {
     "data": {},
     "metadata": {},
     "output_type": "display_data"
    },
    {
     "data": {
      "image/png": "[encoded data removed]",
      "text/plain": [
       "plot without title"
      ]
     },
     "metadata": {},
     "output_type": "display_data"
    }
   ],
   "source": [
    "df %>%\n",
    "group_by(weekday) %>%\n",
    "summarize(avg = mean(cnt))  %>%\n",
    "ggplot(aes(x=weekday, y=avg)) +\n",
    "geom_col()"
   ]
  },
  {
   "cell_type": "markdown",
   "metadata": {},
   "source": [
    "# Do rentals vary by season?\n",
    "\n",
    "To answer this question, we need to examine the count of rentals \"cnt\" in groups defined by the season \"season\" (1:spring, 2:summer, 3:fall, 4:winter). We can then look at the average count of rentals by season. Then we can plot the results.\n",
    "\n",
    "Notice, we used the same code from above, but changed our group_by variable and subsequent x axis.\n",
    "\n",
    "Experiment with different versions of dplyr functions to better understand how they work."
   ]
  },
  {
   "cell_type": "code",
   "execution_count": 43,
   "metadata": {
    "collapsed": false
   },
   "outputs": [
    {
     "data": {},
     "metadata": {},
     "output_type": "display_data"
    },
    {
     "data": {
      "image/png": "[encoded data removed]",
      "text/plain": [
       "plot without title"
      ]
     },
     "metadata": {},
     "output_type": "display_data"
    }
   ],
   "source": [
    "df %>% \n",
    "group_by(season) %>%\n",
    "summarize(average = mean(cnt)) %>%\n",
    "ggplot(aes(x=season, y=average)) +\n",
    "geom_col()"
   ]
  },
  {
   "cell_type": "markdown",
   "metadata": {},
   "source": [
    "# Conduct an end-to-end analysis in RStudio\n",
    "\n",
    "Next, we will move on from Jupyter Notebooks to use RStudio. Jupyter Notebooks are used most for education and sharing complete analyses. RStudio is better optimized for iterative analysis.\n",
    "\n",
    "In the same folder you downloaded from the [Github repo](https://github.com/azbones/cis503_machine_learning), there is a file titled \"explore_gsod_data.R\". Open that file using RStudio and we will go through that complete analysis."
   ]
  }
 ],
 "metadata": {
  "kernelspec": {
   "display_name": "R",
   "language": "R",
   "name": "ir"
  },
  "language_info": {
   "codemirror_mode": "r",
   "file_extension": ".r",
   "mimetype": "text/x-r-source",
   "name": "R",
   "pygments_lexer": "r",
   "version": "3.3.3"
  }
 },
 "nbformat": 4,
 "nbformat_minor": 2
}
