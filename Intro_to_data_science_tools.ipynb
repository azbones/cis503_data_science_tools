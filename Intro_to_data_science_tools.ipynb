{
 "cells": [
  {
   "cell_type": "markdown",
   "metadata": {},
   "source": [
    "# Let's Get Started\n",
    "\n",
    "Learning Assumptions and Workshop Objective: \n",
    "\n",
    "The intent of these workshops is *not* to make you a competent developer or expert data scientist. The workshop objective *is* to help you gain a conceptual understanding of the process and technologies that are used in data science and \"big data\" via hands-on activities. Many of these activities are common tasks for data scientists. This high-level perspective will help you understand how data science tools fit into the larger context of business strategies that seek to leverage data science methods and tools. It will also hopefully motivate you to move beyond the legacy analytic tools of business like Microsoft Excel to see how powerful tools like R and Python are more accessable than ever before to non-engineers and non-scientists.\n",
    "\n",
    "All of us are responsible for creating a productive learning environment for the entire class, so please contribute to making the environment positive for everyone. We will follow the Python code of conduct- https://www.python.org/psf/codeofconduct/.\n",
    "\n",
    "You can work independently or in groups. If your technical and analytical expertise is beyond the basic level of these exercises, take on the role of adviser and help bring others up to speed and extend your work to add more sophistication or functionality.\n",
    "\n",
    "**This workshops objectives:**\n",
    "\n",
    "* Learn the most popular tools for data scientists?\n",
    "* Learn what is R and why is it popular? \n",
    "* Learn about the R ecosystem?\n",
    "    * R libraries\n",
    "    * RStudio\n",
    "    * Jupyter Notebooks\n",
    "    * SparkR and other \"big data\" tools\n",
    "* Install R\n",
    "* Install RStudio\n",
    "* What is a dataframe?\n",
    "* Load data from a csv \n",
    "* Explore a dataframe with stats\n",
    "* Explore a dataframe with plots\n",
    "* Filter and group data\n",
    "* Build a simple linear model\n"
   ]
  },
  {
   "cell_type": "code",
   "execution_count": null,
   "metadata": {
    "collapsed": true
   },
   "outputs": [],
   "source": [
    "print(\"this\")"
   ]
  }
 ],
 "metadata": {
  "kernelspec": {
   "display_name": "R",
   "language": "R",
   "name": "ir"
  },
  "language_info": {
   "codemirror_mode": "r",
   "file_extension": ".r",
   "mimetype": "text/x-r-source",
   "name": "R",
   "pygments_lexer": "r",
   "version": "3.4.1"
  }
 },
 "nbformat": 4,
 "nbformat_minor": 2
}
