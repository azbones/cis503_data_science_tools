{
 "cells": [
  {
   "cell_type": "markdown",
   "metadata": {},
   "source": [
    "# Example Data Science Workflow\n",
    "\n",
    "This workbook will go through a simple analysis for NOAA weather data. This will include:\n",
    "\n",
    "* importing data\n",
    "* checking the validatity and integretity of the import\n",
    "* exploring the data\n",
    "* visualizing the data\n",
    "* explore a specific research question\n",
    "* plot some geographic data\n",
    "\n",
    "Print out the cheatsheet to help you- https://www.rstudio.com/wp-content/uploads/2015/02/data-wrangling-cheatsheet.pdf \n",
    "\n",
    "```\n",
    "# NOTE: THERE ARE INTENTIONAL OMMISSIONS IN THE CODE BELOW. YOU WILL HAVE TO FIX THE CODE TO MAKE IT WORK.\n",
    "```"
   ]
  },
  {
   "cell_type": "markdown",
   "metadata": {},
   "source": [
    "## Read in the data:\n",
    "\n",
    "This data was retreived from Google's BigQuery and exported to a csv."
   ]
  },
  {
   "cell_type": "code",
   "execution_count": null,
   "metadata": {},
   "outputs": [],
   "source": [
    "library(readr) # This library lets us read CSVs simply\n",
    "library(tidyverse) # This library loads a variety of tools we need\n",
    "\n",
    "# This is the query to pull back the data from Google's BigQuery (note it is using standard SQL dialect)\n",
    "#\n",
    "# SELECT b.name, b.country, b.state, b.call, b.lat, b.lon, b.elev, b.begin, b.end, a.wban, \n",
    "#        a.stn, a.year, a.mo, a.da, a.temp, a.count_temp, a.dewp, a.count_dewp, a.stp, a.count_stp, \n",
    "#        a.visib, a.count_visib, a.wdsp, a.count_wdsp, a.gust, a.max, a.flag_max, a.min, a.flag_min, \n",
    "#        a.prcp, a.flag_prcp, a.sndp, a.fog, a.rain_drizzle, a.snow_ice_pellets, a.hail, a.thunder, \n",
    "#        a.tornado_funnel_cloud\n",
    "# FROM `bigquery-public-data.noaa_gsod.gsod*` a\n",
    "# JOIN `bigquery-public-data.noaa_gsod.stations` b ON a.stn=b.usaf AND a.wban=b.wban\n",
    "# WHERE state LIKE \"AZ\"\n",
    "\n",
    "azgsod <- read_csv(\"./data/azgsod.zip\") "
   ]
  },
  {
   "cell_type": "markdown",
   "metadata": {},
   "source": [
    "## Check the integrity of the data\n",
    "\n",
    "Just because your code reads data successfully, does not mean it read it correctly. Checking the import to catch any issues will save you time later."
   ]
  },
  {
   "cell_type": "code",
   "execution_count": null,
   "metadata": {},
   "outputs": [],
   "source": [
    "azgsod # look at the dataframe"
   ]
  },
  {
   "cell_type": "code",
   "execution_count": null,
   "metadata": {},
   "outputs": [],
   "source": [
    "?lapply # let's use the lapply function to apply a function that works on single columns to the dataframe."
   ]
  },
  {
   "cell_type": "code",
   "execution_count": null,
   "metadata": {},
   "outputs": [],
   "source": [
    "lapply(azgsod, typeof) # look at the data types"
   ]
  },
  {
   "cell_type": "code",
   "execution_count": null,
   "metadata": {},
   "outputs": [],
   "source": [
    "lapply(azgsod, range) # does the data seem correct looking at the min and max values?"
   ]
  },
  {
   "cell_type": "code",
   "execution_count": null,
   "metadata": {},
   "outputs": [],
   "source": [
    "# CLEANING THE DATA\n",
    "# remove old school convention of setting missing data to nines\n",
    "# azgsod$dewp[azgsod$dewp == 9999.9] <- NA # boolean mask\n",
    "\n",
    "azgsod <- read_csv(\"./data/azgsod.zip\", na = c('9999.9','999.9'))"
   ]
  },
  {
   "cell_type": "markdown",
   "metadata": {},
   "source": [
    "## Explore the data"
   ]
  },
  {
   "cell_type": "code",
   "execution_count": null,
   "metadata": {},
   "outputs": [],
   "source": [
    "# let's count the number of observations by station\n",
    "\n",
    "azgsod %>%\n",
    "  count(name) "
   ]
  },
  {
   "cell_type": "code",
   "execution_count": null,
   "metadata": {},
   "outputs": [],
   "source": [
    "# Now let's arrange the output by the count in descending order (using the \"n\" column) in the pipeline above. \n",
    "# Can you figure out how to do this with the code below using the desc function added to the pipeline above?\n",
    "\n",
    "arrange(desc())"
   ]
  },
  {
   "cell_type": "code",
   "execution_count": null,
   "metadata": {},
   "outputs": [],
   "source": [
    "# look at observations by year\n",
    "\n",
    "azgsod %>%\n",
    "  count(year) %>%\n",
    "  print(n=100) \n"
   ]
  },
  {
   "cell_type": "markdown",
   "metadata": {},
   "source": [
    "## Research question\n",
    "\n",
    "Can we see the effects of global warming using this dataset?"
   ]
  },
  {
   "cell_type": "code",
   "execution_count": null,
   "metadata": {},
   "outputs": [],
   "source": [
    "# Let's start to visualize the data by looking at temp by year. This will take some time given the dataset is large.\n",
    "azgsod %>%\n",
    "  ggplot(aes(x=year, y=temp)) + \n",
    "  geom_point()"
   ]
  },
  {
   "cell_type": "code",
   "execution_count": null,
   "metadata": {},
   "outputs": [],
   "source": [
    "# A better, faster way to plot large datasets is to use geom_boxplot().\n",
    "\n",
    "azgsod %>%\n",
    "  ggplot(aes(x=year, y=temp)) +\n",
    "  geom_boxplot()"
   ]
  },
  {
   "cell_type": "code",
   "execution_count": null,
   "metadata": {},
   "outputs": [],
   "source": [
    "# Note that the boxplot didn't plot each year which is what I originally intended. \n",
    "# To fix this, use as.factor() to change the year variable to a \"factor\" datatype above.\n",
    "# Let's add a single column(variable) for every year, month, and day.\n",
    "\n",
    "azgsod %>%\n",
    "mutate(yrmoda = ISOdatetime(.$year, .$mo, .$da, 0, 0, 0)) %>%\n",
    "  ggplot(aes(yrmoda, temp)) + \n",
    "  geom_line()"
   ]
  },
  {
   "cell_type": "code",
   "execution_count": null,
   "metadata": {},
   "outputs": [],
   "source": [
    "# Let's focus the time period to look at the pattern\n",
    "# Instead of looking at all the datapoints, let's group by year.\n",
    "\n",
    "azgsod %>% \n",
    "  group_by(year) %>% \n",
    "  summarise(mean_temp =mean(temp)) %>% \n",
    "  ggplot(aes(x=year, y=mean_temp)) + \n",
    "  geom_point()"
   ]
  },
  {
   "cell_type": "code",
   "execution_count": null,
   "metadata": {},
   "outputs": [],
   "source": [
    "# Let's look at the number of data points by station\n",
    "\n",
    "azgsod %>%\n",
    "  group_by(name) %>%\n",
    "  summarise(count_temp = n()) %>%\n",
    "  ggplot(aes(count_temp)) + \n",
    "  geom_histogram()"
   ]
  },
  {
   "cell_type": "code",
   "execution_count": null,
   "metadata": {},
   "outputs": [],
   "source": [
    "# Let's look at the top stations\n",
    "\n",
    "azgsod %>%\n",
    "  group_by(name) %>%\n",
    "  summarise(count_temp = n()) %>%\n",
    "  arrange(desc(count_temp))"
   ]
  },
  {
   "cell_type": "code",
   "execution_count": null,
   "metadata": {},
   "outputs": [],
   "source": [
    "# Now, let's focus the analysis and look at just a single station 'DAVIS-MONTHAN AFB AIRPORT'\n",
    "\n",
    "# Add the filter parameter below for our target station\n",
    "\n",
    "azgsod %>% \n",
    "  filter(name == 'DAVIS-MONTHAN AFB AIRPORT') %>% # this line is broken\n",
    "  count(year) %>%\n",
    "  print(n=100)"
   ]
  },
  {
   "cell_type": "markdown",
   "metadata": {},
   "source": [
    "What does this output tell us about the data? Is the time series complete?"
   ]
  },
  {
   "cell_type": "code",
   "execution_count": null,
   "metadata": {},
   "outputs": [],
   "source": [
    "# Let's add our datetime var and assign our focused data to its own dataframe\n",
    "# read the code below to describe each action R will take \n",
    "\n",
    "azgsod %>% \n",
    "  filter(name == ?) %>%\n",
    "  mutate(yrmoda = ISOdatetime(.$year, .$mo, .$da, 0, 0, 0)) -> davis"
   ]
  },
  {
   "cell_type": "code",
   "execution_count": null,
   "metadata": {},
   "outputs": [],
   "source": [
    "# Now, let's plot it\n",
    "\n",
    "davis %>%\n",
    "  select(?, temp) %>%\n",
    "  ggplot(aes(yrmoda, temp)) + \n",
    "  geom_point()"
   ]
  },
  {
   "cell_type": "markdown",
   "metadata": {},
   "source": [
    "How can we change the plot above to see what the pattern looks like in a given year."
   ]
  },
  {
   "cell_type": "code",
   "execution_count": null,
   "metadata": {},
   "outputs": [],
   "source": [
    "# Let's look at mean monthly temp data\n",
    "\n",
    "davis %>%\n",
    "  group_by(year, mo) %>%\n",
    "  summarise(mean= ?) -> davis_monthly"
   ]
  },
  {
   "cell_type": "code",
   "execution_count": null,
   "metadata": {},
   "outputs": [],
   "source": [
    "# Let's plot some max temps\n",
    "\n",
    "davis %>%\n",
    "  group_by(year) %>%\n",
    "  summarise(mean_max_temp = ?) %>%\n",
    "  ggplot(aes(year, mean_max_temp)) + \n",
    "  geom_point() "
   ]
  },
  {
   "cell_type": "markdown",
   "metadata": {},
   "source": [
    "Add a trendline to the plot above using ```stat_smooth()```."
   ]
  },
  {
   "cell_type": "code",
   "execution_count": null,
   "metadata": {},
   "outputs": [],
   "source": [
    "# Now, let's just look at some specific months like July\n",
    "\n",
    "davis %>%\n",
    "  ? %>%\n",
    "  group_by(year,mo) %>%\n",
    "  summarise(mean_max_temp = max(temp)) %>%\n",
    "  ggplot(aes(year, mean_max_temp)) + \n",
    "  geom_point() + \n",
    "  stat_smooth()"
   ]
  },
  {
   "cell_type": "markdown",
   "metadata": {},
   "source": [
    "## Let's create a simple linear model"
   ]
  },
  {
   "cell_type": "code",
   "execution_count": null,
   "metadata": {},
   "outputs": [],
   "source": [
    "library(modelr) # this is a simple modeling library\n",
    "\n",
    "davis_mod <- lm(mean ~ as.factor(mo), data= davis_monthly)\n",
    "\n",
    "summary(davis_mod)"
   ]
  },
  {
   "cell_type": "code",
   "execution_count": null,
   "metadata": {},
   "outputs": [],
   "source": [
    "# plot model predictions\n",
    "\n",
    "davis_monthly %>% \n",
    "  modelr::add_predictions(davis_mod) %>%\n",
    "  ggplot(aes(year + mo/12, pred)) + \n",
    "  geom_line()"
   ]
  },
  {
   "cell_type": "code",
   "execution_count": null,
   "metadata": {},
   "outputs": [],
   "source": [
    "# plot residuals\n",
    "\n",
    "davis_monthly %>% \n",
    "  modelr::add_residuals(davis_mod) %>%\n",
    "  ggplot(aes(year + mo/12, resid)) + \n",
    "  geom_point()"
   ]
  },
  {
   "cell_type": "code",
   "execution_count": null,
   "metadata": {},
   "outputs": [],
   "source": [
    "# Now let's use an additive seasonal decomposition to look at the trend minus the seasonality\n",
    "\n",
    "ts_davis_mo = ts(davis_monthly$mean, frequency = 12)\n",
    "decompose_davis_mo = decompose(ts_davis_mo, \"additive\")\n",
    "\n",
    "\n",
    "\n",
    "plot(as.ts(decompose_davis_mo$trend))\n",
    "plot(as.ts(decompose_davis_mo$seasonal))\n",
    "plot(as.ts(decompose_davis_mo$random))\n",
    "plot(decompose_davis_mo)"
   ]
  },
  {
   "cell_type": "code",
   "execution_count": null,
   "metadata": {},
   "outputs": [],
   "source": [
    "# What is the ts function?\n",
    "?ts "
   ]
  },
  {
   "cell_type": "code",
   "execution_count": null,
   "metadata": {},
   "outputs": [],
   "source": [
    "?decompose # what time period is the code above using to remove seasonality?"
   ]
  },
  {
   "cell_type": "markdown",
   "metadata": {},
   "source": [
    "## As a final example, let's look at how to bring maps into our plots"
   ]
  },
  {
   "cell_type": "code",
   "execution_count": null,
   "metadata": {},
   "outputs": [],
   "source": [
    "library(maps) # the maps library to plot geo data\n",
    "\n",
    "# create a base plot to draw on\n",
    "p <- ggplot() +\n",
    "  coord_fixed() +\n",
    "  xlab(\"\") +\n",
    "  ylab(\"\")\n",
    "\n",
    "# get the state data to draw state map\n",
    "us_map <- map_data(\"state\")\n",
    "az_map <- subset(us_map, us_map$region==\"arizona\")\n",
    "\n",
    "# create the base az map \n",
    "base_az_map <- p + geom_polygon(data=az_map, aes(x=long, y=lat, group=group), \n",
    "                                     colour=\"light blue\", fill=\"light blue\")\n",
    "\n",
    "# filter for just the unique stations lat and longs\n",
    "azgsod %>%\n",
    "  select(name, lat, lon) %>%\n",
    "  unique() -> az_station_locs\n",
    "\n",
    "# add the station locations to the base plot and base Arizona map\n",
    "base_az_map +\n",
    "  geom_point(data=az_station_locs, aes(x=lon, y=lat), color=\"dark blue\", size=3, alpha=.2)\n",
    "\n",
    "# What does this plot show you?\n",
    "# How might you want to add to it to better understand the data?\n",
    "\n"
   ]
  }
 ],
 "metadata": {
  "kernelspec": {
   "display_name": "R",
   "language": "R",
   "name": "ir"
  },
  "language_info": {
   "codemirror_mode": "r",
   "file_extension": ".r",
   "mimetype": "text/x-r-source",
   "name": "R",
   "pygments_lexer": "r",
   "version": "3.4.2"
  }
 },
 "nbformat": 4,
 "nbformat_minor": 2
}
