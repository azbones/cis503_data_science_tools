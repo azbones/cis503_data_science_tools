{
 "cells": [
  {
   "attachments": {},
   "cell_type": "markdown",
   "metadata": {},
   "source": [
    "# Example Data Science Workflow\n",
    "\n",
    "This workbook will go through a simple analysis for NOAA weather data which replicates a complete data science workflow. This will include:\n",
    "\n",
    "* importing data\n",
    "* checking the validity and integrity of the import\n",
    "* exploring the data\n",
    "* visualizing the data\n",
    "* initial exploration of a specific research question\n",
    "\n",
    "Print out the cheatsheet to help you- https://www.rstudio.com/wp-content/uploads/2015/02/data-wrangling-cheatsheet.pdf \n",
    "\n",
    "```\n",
    "# NOTE: THERE ARE INTENTIONAL OMMISSIONS IN THE CODE BELOW. YOU WILL HAVE TO FIX THE CODE TO MAKE IT WORK.\n",
    "```"
   ]
  },
  {
   "cell_type": "markdown",
   "metadata": {},
   "source": [
    "## Read in the data:\n",
    "\n",
    "This data was retrieved from Google's BigQuery and exported to a csv."
   ]
  },
  {
   "cell_type": "code",
   "execution_count": null,
   "metadata": {},
   "outputs": [],
   "source": [
    "library(readr) # This library lets us read CSVs simply\n",
    "library(tidyverse) # This library loads a variety of tools we need\n",
    "library(repr) # This sets some defaults for plotting \n",
    "options(repr.plot.width=10, repr.plot.height=8) # This sets some defaults for plotting \n",
    "\n",
    "# This data was retrieved from Google BigQuery by specifying the state of interest was \"AZ\"\n",
    "# Details of the dataset are available here- https://www1.ncdc.noaa.gov/pub/data/gsod/readme.txt\n",
    "\n",
    "azgsod <- read_csv(\"./data/azgsod.zip\") "
   ]
  },
  {
   "cell_type": "markdown",
   "metadata": {},
   "source": [
    "## Check the integrity of the data\n",
    "\n",
    "Just because your code reads data successfully, does not mean it read it correctly. Checking the import to catch any issues will save you time later."
   ]
  },
  {
   "cell_type": "code",
   "execution_count": null,
   "metadata": {},
   "outputs": [],
   "source": [
    "azgsod # look at the dataframe. Note that it does not print all the columns to save space."
   ]
  },
  {
   "cell_type": "code",
   "execution_count": null,
   "metadata": {},
   "outputs": [],
   "source": [
    "colnames(azgsod) # look at the dataframe columns"
   ]
  },
  {
   "cell_type": "code",
   "execution_count": null,
   "metadata": {},
   "outputs": [],
   "source": [
    "summary(azgsod) # look at the data ranges esp vars like stp and dewp"
   ]
  },
  {
   "cell_type": "code",
   "execution_count": null,
   "metadata": {},
   "outputs": [],
   "source": [
    "# CLEANING THE DATA\n",
    "# remove old school convention of setting missing data to nines\n",
    "\n",
    "azgsod <- read_csv(\"./data/azgsod.zip\", na = c('9999.9','999.9'))"
   ]
  },
  {
   "cell_type": "markdown",
   "metadata": {},
   "source": [
    "In order to make the dataset perform better, we are going to filter the data to only the past 20 years."
   ]
  },
  {
   "cell_type": "code",
   "execution_count": null,
   "metadata": {},
   "outputs": [],
   "source": [
    "azgsod %>% filter(year > 1998) -> azgsod # filter data to last 20 years"
   ]
  },
  {
   "cell_type": "markdown",
   "metadata": {},
   "source": [
    "## Explore the data"
   ]
  },
  {
   "cell_type": "code",
   "execution_count": null,
   "metadata": {},
   "outputs": [],
   "source": [
    "# let's count the number of observations by station\n",
    "\n",
    "azgsod %>%\n",
    "  count(name) \n",
    "\n",
    "# How is this dataframe sorted?"
   ]
  },
  {
   "cell_type": "code",
   "execution_count": null,
   "metadata": {},
   "outputs": [],
   "source": [
    "# Now let's arrange the output by the count in descending \n",
    "# order (using the \"n\" column) in the pipeline above. \n",
    "# Can you figure out how to do this with the code below \n",
    "# using the desc function added to the pipeline above?\n",
    "\n",
    "arrange(desc())"
   ]
  },
  {
   "cell_type": "code",
   "execution_count": null,
   "metadata": {},
   "outputs": [],
   "source": [
    "# look at observations by year\n",
    "\n",
    "azgsod %>%\n",
    "  count(year) %>%\n",
    "  print(n=100) \n",
    "\n",
    "# Do you see any problems with the data collected?"
   ]
  },
  {
   "cell_type": "markdown",
   "metadata": {},
   "source": [
    "## Research question\n",
    "\n",
    "Can we see the effects of global warming using this dataset?"
   ]
  },
  {
   "cell_type": "code",
   "execution_count": null,
   "metadata": {},
   "outputs": [],
   "source": [
    "# Let's start to visualize the data by looking at temp by year. \n",
    "# This will take some time given the dataset is large.\n",
    "\n",
    "azgsod %>%\n",
    "  ggplot(aes(x=year, y=temp)) + \n",
    "  geom_point()\n",
    "\n",
    "# What problems do you see with this plot?"
   ]
  },
  {
   "cell_type": "code",
   "execution_count": null,
   "metadata": {},
   "outputs": [],
   "source": [
    "# A better, faster way to plot large datasets is to use geom_boxplot().\n",
    "\n",
    "azgsod %>%\n",
    "  ggplot(aes(x=year, y=temp)) +\n",
    "  geom_boxplot() + \n",
    "  theme(axis.text.x = element_text(color=\"#993333\", size=8, angle=90))\n",
    "\n",
    "# Note that the boxplot didn't plot each year which is what I originally intended. \n",
    "# To fix this, use as.factor() to change the year variable to a \"factor\" datatype above."
   ]
  },
  {
   "cell_type": "code",
   "execution_count": null,
   "metadata": {},
   "outputs": [],
   "source": [
    "# Let's add a single column(variable) for every year, month, and day.\n",
    "# This plot will also take some time to render.\n",
    "\n",
    "azgsod %>%\n",
    "  mutate(yrmoda = ISOdatetime(.$year, .$mo, .$da, 0, 0, 0)) %>%\n",
    "  ggplot(aes(yrmoda, temp)) + \n",
    "  geom_line()\n",
    "\n",
    "# What did the mutate function do to our original dataset?"
   ]
  },
  {
   "cell_type": "code",
   "execution_count": null,
   "metadata": {},
   "outputs": [],
   "source": [
    "# Let's focus the time period to look at the temperature pattern\n",
    "# Instead of looking at all the datapoints, let's group by year.\n",
    "\n",
    "azgsod %>% \n",
    "  group_by(year) %>% \n",
    "  summarise(mean_temp =mean(temp)) %>% \n",
    "  ggplot(aes(x=year, y=mean_temp)) + \n",
    "  geom_point() \n",
    "\n",
    "# Now add geom_line() to the plot above"
   ]
  },
  {
   "cell_type": "code",
   "execution_count": null,
   "metadata": {},
   "outputs": [],
   "source": [
    "# Let's add a line to the data to see the trend\n",
    "# Can you add a line to the ggplot that displays a smoothed mean (geom_smooth)?\n",
    "\n",
    "azgsod %>% \n",
    "  group_by(year) %>% \n",
    "  summarise(mean_temp =mean(temp)) %>% \n",
    "  ggplot(aes(x=year, y=mean_temp)) + \n",
    "  geom_point()\n",
    "\n",
    "# Add a geom for a smoothed mean here"
   ]
  },
  {
   "cell_type": "code",
   "execution_count": null,
   "metadata": {},
   "outputs": [],
   "source": [
    "# Let's look at the number of data points by station\n",
    "\n",
    "azgsod %>%\n",
    "  group_by(name) %>%\n",
    "  summarise(count_temp = n()) %>%\n",
    "  ggplot(aes(count_temp)) + \n",
    "  geom_histogram()"
   ]
  },
  {
   "cell_type": "code",
   "execution_count": null,
   "metadata": {},
   "outputs": [],
   "source": [
    "# Let's look at the top stations\n",
    "\n",
    "azgsod %>%\n",
    "  group_by(name) %>%\n",
    "  summarise(count_temp = n()) %>%\n",
    "  arrange(desc(count_temp))"
   ]
  },
  {
   "cell_type": "code",
   "execution_count": null,
   "metadata": {},
   "outputs": [],
   "source": [
    "# Now, let's focus the analysis and look at just a single station 'DAVIS-MONTHAN AFB AIRPORT'\n",
    "\n",
    "# Add the filter parameter below for our target station\n",
    "\n",
    "azgsod %>% \n",
    "  filter(name == '[insert station name here]') %>% # this line is broken\n",
    "  count(year) %>%\n",
    "  print(n=100)"
   ]
  },
  {
   "cell_type": "markdown",
   "metadata": {},
   "source": [
    "What does this output tell us about the data? Is the time series complete?"
   ]
  },
  {
   "cell_type": "code",
   "execution_count": null,
   "metadata": {},
   "outputs": [],
   "source": [
    "# Let's add our datetime variable called 'yrmoda' and assign our focused data to its own dataframe\n",
    "# read the code below to describe each action R will take \n",
    "\n",
    "azgsod %>% \n",
    "  filter(name == 'DAVIS-MONTHAN AFB AIRPORT') %>%\n",
    "  mutate(yrmoda = ISOdatetime(.$year, .$mo, .$da, 0, 0, 0)) -> davis"
   ]
  },
  {
   "cell_type": "code",
   "execution_count": null,
   "metadata": {},
   "outputs": [],
   "source": [
    "davis"
   ]
  },
  {
   "cell_type": "code",
   "execution_count": null,
   "metadata": {},
   "outputs": [],
   "source": [
    "# Now, let's plot it\n",
    "\n",
    "davis %>%\n",
    "  select(yrmoda, temp) %>%\n",
    "  ggplot(aes(yrmoda, temp)) + \n",
    "  geom_point()"
   ]
  },
  {
   "cell_type": "markdown",
   "metadata": {},
   "source": [
    "How can we change the plot above to see what the pattern looks like in a given year."
   ]
  },
  {
   "cell_type": "code",
   "execution_count": null,
   "metadata": {},
   "outputs": [],
   "source": [
    "# Let's look at mean monthly temp data\n",
    "\n",
    "davis %>%\n",
    "  group_by(year, mo) %>%\n",
    "  summarise(mean= mean(temp)) -> davis_monthly_mean"
   ]
  },
  {
   "cell_type": "code",
   "execution_count": null,
   "metadata": {},
   "outputs": [],
   "source": [
    "davis_monthly_mean"
   ]
  },
  {
   "cell_type": "code",
   "execution_count": null,
   "metadata": {},
   "outputs": [],
   "source": [
    "# Let's plot the mean temps by year\n",
    "\n",
    "davis_monthly_mean %>%\n",
    "  ggplot(aes(year,mean)) +\n",
    "  geom_point() \n",
    "\n",
    "  # Add a geom to include a line\n",
    "  # What do the lines tell you about the plots by year?"
   ]
  },
  {
   "cell_type": "markdown",
   "metadata": {},
   "source": [
    "Add a trendline to the plot above using ```stat_smooth()```."
   ]
  },
  {
   "cell_type": "code",
   "execution_count": null,
   "metadata": {},
   "outputs": [],
   "source": [
    "# now let's look at the average yearly temps using the monthly means\n",
    "\n",
    "davis_monthly_mean %>%\n",
    "  group_by(year) %>%\n",
    "  summarize(year_mean=mean(mean)) %>%\n",
    "  ggplot(aes(year, year_mean)) +\n",
    "  geom_point() +\n",
    "  geom_smooth()\n",
    "\n",
    "# add the line plot to the pipeline above"
   ]
  },
  {
   "cell_type": "code",
   "execution_count": null,
   "metadata": {},
   "outputs": [],
   "source": [
    "# Now, let's look at some specific months like July, but look at the max instead of the mean\n",
    "\n",
    "davis %>%\n",
    "  [insert a filter here] %>% # This line is broken\n",
    "  group_by(year,mo) %>%\n",
    "  summarise(mean_max_temp = max(temp)) %>%\n",
    "  ggplot(aes(year, mean_max_temp)) + \n",
    "  geom_point() + \n",
    "  stat_smooth()"
   ]
  },
  {
   "cell_type": "markdown",
   "metadata": {},
   "source": [
    "# Trying R on your own,...\n",
    "\n",
    "If you want to use R on your PC, I recommend you install both R and RStudio. R works across all major operating systems. To install R, go to https://cloud.r-project.org/, download your required version, and install it on your desktop. You should then be able to find the application launcher called \"R\" in your applications folder. If you launch it, you should see a console like this:\n",
    "\n",
    "<img src=\"images/base-r.png\">\n",
    "\n",
    "\n",
    "While you can just use the base R console you see above, R Studio provides a much easier to use IDE. RStudio (the IDE) is sponsored by RStudio (the commercial entity). They have offered an open source version of RStudio Desktop which is what you should download next at this link- https://www.rstudio.com/products/rstudio/download/ \n",
    "\n",
    "After you install RStudio and launch the app, you should see a console like the one below. If you do, you have successfully installed RStudio. \n",
    "\n",
    "<img src=\"images/r_studio.png\">"
   ]
  }
 ],
 "metadata": {
  "kernelspec": {
   "display_name": "R",
   "language": "R",
   "name": "ir"
  },
  "language_info": {
   "codemirror_mode": "r",
   "file_extension": ".r",
   "mimetype": "text/x-r-source",
   "name": "R",
   "pygments_lexer": "r",
   "version": "3.5.1"
  }
 },
 "nbformat": 4,
 "nbformat_minor": 2
}
