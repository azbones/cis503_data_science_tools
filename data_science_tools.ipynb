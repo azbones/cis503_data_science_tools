{
 "cells": [
  {
   "cell_type": "code",
   "execution_count": 1,
   "metadata": {
    "collapsed": false
   },
   "outputs": [
    {
     "name": "stderr",
     "output_type": "stream",
     "text": [
      "Loading tidyverse: ggplot2\n",
      "Loading tidyverse: tibble\n",
      "Loading tidyverse: tidyr\n",
      "Loading tidyverse: readr\n",
      "Loading tidyverse: purrr\n",
      "Loading tidyverse: dplyr\n",
      "Conflicts with tidy packages ---------------------------------------------------\n",
      "filter(): dplyr, stats\n",
      "lag():    dplyr, stats\n"
     ]
    }
   ],
   "source": [
    "library(tidyverse)"
   ]
  },
  {
   "cell_type": "code",
   "execution_count": 2,
   "metadata": {
    "collapsed": false
   },
   "outputs": [],
   "source": [
    "# read in the data\n",
    "\n",
    "df <- read.csv(\"./data/azgsod.csv\")"
   ]
  },
  {
   "cell_type": "code",
   "execution_count": 3,
   "metadata": {
    "collapsed": false
   },
   "outputs": [
    {
     "data": {
      "text/html": [
       "<dl class=dl-horizontal>\n",
       "\t<dt>X</dt>\n",
       "\t\t<dd>'integer'</dd>\n",
       "\t<dt>name</dt>\n",
       "\t\t<dd>'factor'</dd>\n",
       "\t<dt>country</dt>\n",
       "\t\t<dd>'factor'</dd>\n",
       "\t<dt>state</dt>\n",
       "\t\t<dd>'factor'</dd>\n",
       "\t<dt>call</dt>\n",
       "\t\t<dd>'factor'</dd>\n",
       "\t<dt>lat</dt>\n",
       "\t\t<dd>'numeric'</dd>\n",
       "\t<dt>lon</dt>\n",
       "\t\t<dd>'numeric'</dd>\n",
       "\t<dt>elev</dt>\n",
       "\t\t<dd>'numeric'</dd>\n",
       "\t<dt>begin</dt>\n",
       "\t\t<dd>'integer'</dd>\n",
       "\t<dt>end</dt>\n",
       "\t\t<dd>'integer'</dd>\n",
       "\t<dt>wban</dt>\n",
       "\t\t<dd>'integer'</dd>\n",
       "\t<dt>stn</dt>\n",
       "\t\t<dd>'integer'</dd>\n",
       "\t<dt>year</dt>\n",
       "\t\t<dd>'integer'</dd>\n",
       "\t<dt>mo</dt>\n",
       "\t\t<dd>'integer'</dd>\n",
       "\t<dt>da</dt>\n",
       "\t\t<dd>'integer'</dd>\n",
       "\t<dt>temp</dt>\n",
       "\t\t<dd>'numeric'</dd>\n",
       "\t<dt>count_temp</dt>\n",
       "\t\t<dd>'integer'</dd>\n",
       "\t<dt>dewp</dt>\n",
       "\t\t<dd>'numeric'</dd>\n",
       "\t<dt>count_dewp</dt>\n",
       "\t\t<dd>'integer'</dd>\n",
       "\t<dt>stp</dt>\n",
       "\t\t<dd>'numeric'</dd>\n",
       "\t<dt>count_stp</dt>\n",
       "\t\t<dd>'integer'</dd>\n",
       "\t<dt>visib</dt>\n",
       "\t\t<dd>'numeric'</dd>\n",
       "\t<dt>count_visib</dt>\n",
       "\t\t<dd>'integer'</dd>\n",
       "\t<dt>wdsp</dt>\n",
       "\t\t<dd>'numeric'</dd>\n",
       "\t<dt>count_wdsp</dt>\n",
       "\t\t<dd>'integer'</dd>\n",
       "\t<dt>gust</dt>\n",
       "\t\t<dd>'numeric'</dd>\n",
       "\t<dt>max</dt>\n",
       "\t\t<dd>'numeric'</dd>\n",
       "\t<dt>flag_max</dt>\n",
       "\t\t<dd>'factor'</dd>\n",
       "\t<dt>min</dt>\n",
       "\t\t<dd>'numeric'</dd>\n",
       "\t<dt>flag_min</dt>\n",
       "\t\t<dd>'factor'</dd>\n",
       "\t<dt>prcp</dt>\n",
       "\t\t<dd>'numeric'</dd>\n",
       "\t<dt>flag_prcp</dt>\n",
       "\t\t<dd>'factor'</dd>\n",
       "\t<dt>sndp</dt>\n",
       "\t\t<dd>'numeric'</dd>\n",
       "\t<dt>fog</dt>\n",
       "\t\t<dd>'integer'</dd>\n",
       "\t<dt>rain_drizzle</dt>\n",
       "\t\t<dd>'integer'</dd>\n",
       "\t<dt>snow_ice_pellets</dt>\n",
       "\t\t<dd>'integer'</dd>\n",
       "\t<dt>hail</dt>\n",
       "\t\t<dd>'integer'</dd>\n",
       "\t<dt>thunder</dt>\n",
       "\t\t<dd>'integer'</dd>\n",
       "\t<dt>tornado_funnel_cloud</dt>\n",
       "\t\t<dd>'integer'</dd>\n",
       "</dl>\n"
      ],
      "text/latex": [
       "\\begin{description*}\n",
       "\\item[X] 'integer'\n",
       "\\item[name] 'factor'\n",
       "\\item[country] 'factor'\n",
       "\\item[state] 'factor'\n",
       "\\item[call] 'factor'\n",
       "\\item[lat] 'numeric'\n",
       "\\item[lon] 'numeric'\n",
       "\\item[elev] 'numeric'\n",
       "\\item[begin] 'integer'\n",
       "\\item[end] 'integer'\n",
       "\\item[wban] 'integer'\n",
       "\\item[stn] 'integer'\n",
       "\\item[year] 'integer'\n",
       "\\item[mo] 'integer'\n",
       "\\item[da] 'integer'\n",
       "\\item[temp] 'numeric'\n",
       "\\item[count\\textbackslash{}\\_temp] 'integer'\n",
       "\\item[dewp] 'numeric'\n",
       "\\item[count\\textbackslash{}\\_dewp] 'integer'\n",
       "\\item[stp] 'numeric'\n",
       "\\item[count\\textbackslash{}\\_stp] 'integer'\n",
       "\\item[visib] 'numeric'\n",
       "\\item[count\\textbackslash{}\\_visib] 'integer'\n",
       "\\item[wdsp] 'numeric'\n",
       "\\item[count\\textbackslash{}\\_wdsp] 'integer'\n",
       "\\item[gust] 'numeric'\n",
       "\\item[max] 'numeric'\n",
       "\\item[flag\\textbackslash{}\\_max] 'factor'\n",
       "\\item[min] 'numeric'\n",
       "\\item[flag\\textbackslash{}\\_min] 'factor'\n",
       "\\item[prcp] 'numeric'\n",
       "\\item[flag\\textbackslash{}\\_prcp] 'factor'\n",
       "\\item[sndp] 'numeric'\n",
       "\\item[fog] 'integer'\n",
       "\\item[rain\\textbackslash{}\\_drizzle] 'integer'\n",
       "\\item[snow\\textbackslash{}\\_ice\\textbackslash{}\\_pellets] 'integer'\n",
       "\\item[hail] 'integer'\n",
       "\\item[thunder] 'integer'\n",
       "\\item[tornado\\textbackslash{}\\_funnel\\textbackslash{}\\_cloud] 'integer'\n",
       "\\end{description*}\n"
      ],
      "text/markdown": [
       "X\n",
       ":   'integer'name\n",
       ":   'factor'country\n",
       ":   'factor'state\n",
       ":   'factor'call\n",
       ":   'factor'lat\n",
       ":   'numeric'lon\n",
       ":   'numeric'elev\n",
       ":   'numeric'begin\n",
       ":   'integer'end\n",
       ":   'integer'wban\n",
       ":   'integer'stn\n",
       ":   'integer'year\n",
       ":   'integer'mo\n",
       ":   'integer'da\n",
       ":   'integer'temp\n",
       ":   'numeric'count_temp\n",
       ":   'integer'dewp\n",
       ":   'numeric'count_dewp\n",
       ":   'integer'stp\n",
       ":   'numeric'count_stp\n",
       ":   'integer'visib\n",
       ":   'numeric'count_visib\n",
       ":   'integer'wdsp\n",
       ":   'numeric'count_wdsp\n",
       ":   'integer'gust\n",
       ":   'numeric'max\n",
       ":   'numeric'flag_max\n",
       ":   'factor'min\n",
       ":   'numeric'flag_min\n",
       ":   'factor'prcp\n",
       ":   'numeric'flag_prcp\n",
       ":   'factor'sndp\n",
       ":   'numeric'fog\n",
       ":   'integer'rain_drizzle\n",
       ":   'integer'snow_ice_pellets\n",
       ":   'integer'hail\n",
       ":   'integer'thunder\n",
       ":   'integer'tornado_funnel_cloud\n",
       ":   'integer'\n",
       "\n"
      ],
      "text/plain": [
       "                   X                 name              country \n",
       "           \"integer\"             \"factor\"             \"factor\" \n",
       "               state                 call                  lat \n",
       "            \"factor\"             \"factor\"            \"numeric\" \n",
       "                 lon                 elev                begin \n",
       "           \"numeric\"            \"numeric\"            \"integer\" \n",
       "                 end                 wban                  stn \n",
       "           \"integer\"            \"integer\"            \"integer\" \n",
       "                year                   mo                   da \n",
       "           \"integer\"            \"integer\"            \"integer\" \n",
       "                temp           count_temp                 dewp \n",
       "           \"numeric\"            \"integer\"            \"numeric\" \n",
       "          count_dewp                  stp            count_stp \n",
       "           \"integer\"            \"numeric\"            \"integer\" \n",
       "               visib          count_visib                 wdsp \n",
       "           \"numeric\"            \"integer\"            \"numeric\" \n",
       "          count_wdsp                 gust                  max \n",
       "           \"integer\"            \"numeric\"            \"numeric\" \n",
       "            flag_max                  min             flag_min \n",
       "            \"factor\"            \"numeric\"             \"factor\" \n",
       "                prcp            flag_prcp                 sndp \n",
       "           \"numeric\"             \"factor\"            \"numeric\" \n",
       "                 fog         rain_drizzle     snow_ice_pellets \n",
       "           \"integer\"            \"integer\"            \"integer\" \n",
       "                hail              thunder tornado_funnel_cloud \n",
       "           \"integer\"            \"integer\"            \"integer\" "
      ]
     },
     "metadata": {},
     "output_type": "display_data"
    }
   ],
   "source": [
    "#check the datatypes of each column\n",
    "\n",
    "sapply(df, class)\n"
   ]
  },
  {
   "cell_type": "code",
   "execution_count": 14,
   "metadata": {
    "collapsed": false
   },
   "outputs": [
    {
     "ename": "ERROR",
     "evalue": "Error in UseMethod(\"filter_\"): no applicable method for 'filter_' applied to an object of class \"factor\"\n",
     "output_type": "error",
     "traceback": [
      "Error in UseMethod(\"filter_\"): no applicable method for 'filter_' applied to an object of class \"factor\"\nTraceback:\n",
      "1. df[[5]] %>% filter(df$temp > 90)",
      "2. withVisible(eval(quote(`_fseq`(`_lhs`)), env, env))",
      "3. eval(quote(`_fseq`(`_lhs`)), env, env)",
      "4. eval(expr, envir, enclos)",
      "5. `_fseq`(`_lhs`)",
      "6. freduce(value, `_function_list`)",
      "7. withVisible(function_list[[k]](value))",
      "8. function_list[[k]](value)",
      "9. filter(., df$temp > 90)",
      "10. filter_(.data, .dots = lazyeval::lazy_dots(...))"
     ]
    }
   ],
   "source": [
    "df[[5]] %>% filter(df$temp>90)"
   ]
  }
 ],
 "metadata": {
  "kernelspec": {
   "display_name": "R",
   "language": "R",
   "name": "ir"
  },
  "language_info": {
   "codemirror_mode": "r",
   "file_extension": ".r",
   "mimetype": "text/x-r-source",
   "name": "R",
   "pygments_lexer": "r",
   "version": "3.3.3"
  }
 },
 "nbformat": 4,
 "nbformat_minor": 0
}
